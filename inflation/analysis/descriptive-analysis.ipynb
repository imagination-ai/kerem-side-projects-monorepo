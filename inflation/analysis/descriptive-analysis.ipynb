{
 "cells": [
  {
   "cell_type": "code",
   "execution_count": 1,
   "metadata": {
    "collapsed": true
   },
   "outputs": [],
   "source": [
    "import numpy as np\n",
    "import pandas as pd\n",
    "\n",
    "from inflation.dataset.reader import InflationJSONA101DatasetReader\n",
    "from inflation.dataset.wrangler import save_dataset, read_dataset, convert_dataset_to_dataframe"
   ]
  },
  {
   "cell_type": "code",
   "execution_count": 13,
   "metadata": {
    "pycharm": {
     "name": "#%%\n"
    }
   },
   "outputs": [
    {
     "name": "stdout",
     "output_type": "stream",
     "text": [
      "14 1\n",
      "15 2\n",
      "16 3\n",
      "24 4\n",
      "26 5\n",
      "27 6\n",
      "28 7\n",
      "29 8\n",
      "30 9\n",
      "33 10\n",
      "34 11\n",
      "35 12\n",
      "36 13\n",
      "37 14\n",
      "38 15\n",
      "39 16\n",
      "40 17\n",
      "41 18\n",
      "45 19\n",
      "46 20\n",
      "47 21\n",
      "48 22\n",
      "49 23\n",
      "51 24\n",
      "52 25\n",
      "53 26\n",
      "54 27\n",
      "56 28\n",
      "57 29\n",
      "58 30\n",
      "59 31\n",
      "61 32\n",
      "62 33\n",
      "63 34\n",
      "64 35\n",
      "65 36\n",
      "67 37\n"
     ]
    },
    {
     "ename": "KeyboardInterrupt",
     "evalue": "",
     "output_type": "error",
     "traceback": [
      "\u001B[0;31m---------------------------------------------------------------------------\u001B[0m",
      "\u001B[0;31mKeyboardInterrupt\u001B[0m                         Traceback (most recent call last)",
      "\u001B[0;32m/var/folders/8l/zq34m2ln2tv4g0x8w9qm0ckm0000gn/T/ipykernel_50375/1456839367.py\u001B[0m in \u001B[0;36m<module>\u001B[0;34m\u001B[0m\n\u001B[1;32m      1\u001B[0m \u001B[0mreader\u001B[0m \u001B[0;34m=\u001B[0m \u001B[0mInflationJSONA101DatasetReader\u001B[0m\u001B[0;34m(\u001B[0m\u001B[0;34m)\u001B[0m\u001B[0;34m\u001B[0m\u001B[0;34m\u001B[0m\u001B[0m\n\u001B[0;32m----> 2\u001B[0;31m \u001B[0mdataset\u001B[0m \u001B[0;34m=\u001B[0m \u001B[0mreader\u001B[0m\u001B[0;34m.\u001B[0m\u001B[0mread\u001B[0m\u001B[0;34m(\u001B[0m\u001B[0;34m\"../../a101.all.json.gz\"\u001B[0m\u001B[0;34m)\u001B[0m\u001B[0;34m\u001B[0m\u001B[0;34m\u001B[0m\u001B[0m\n\u001B[0m\u001B[1;32m      3\u001B[0m \u001B[0;34m\u001B[0m\u001B[0m\n",
      "\u001B[0;32m~/playground/kerem-side-projects-monorepo/inflation/dataset/reader.py\u001B[0m in \u001B[0;36mread\u001B[0;34m(self, filename, fields)\u001B[0m\n\u001B[1;32m    169\u001B[0m                     \u001B[0mline\u001B[0m\u001B[0;34m[\u001B[0m\u001B[0;34m\"timestamp\"\u001B[0m\u001B[0;34m]\u001B[0m\u001B[0;34m\u001B[0m\u001B[0;34m\u001B[0m\u001B[0m\n\u001B[1;32m    170\u001B[0m                 )\n\u001B[0;32m--> 171\u001B[0;31m                 \u001B[0msoup\u001B[0m \u001B[0;34m=\u001B[0m \u001B[0mBeautifulSoup\u001B[0m\u001B[0;34m(\u001B[0m\u001B[0mline\u001B[0m\u001B[0;34m[\u001B[0m\u001B[0;34m\"text\"\u001B[0m\u001B[0;34m]\u001B[0m\u001B[0;34m,\u001B[0m \u001B[0;34m\"lxml\"\u001B[0m\u001B[0;34m)\u001B[0m\u001B[0;34m\u001B[0m\u001B[0;34m\u001B[0m\u001B[0m\n\u001B[0m\u001B[1;32m    172\u001B[0m                 \u001B[0;32mif\u001B[0m \u001B[0mInflationJSONA101DatasetReader\u001B[0m\u001B[0;34m.\u001B[0m\u001B[0m__is_product_page\u001B[0m\u001B[0;34m(\u001B[0m\u001B[0msoup\u001B[0m\u001B[0;34m)\u001B[0m\u001B[0;34m:\u001B[0m\u001B[0;34m\u001B[0m\u001B[0;34m\u001B[0m\u001B[0m\n\u001B[1;32m    173\u001B[0m                     \u001B[0mitem_pages\u001B[0m \u001B[0;34m+=\u001B[0m \u001B[0;36m1\u001B[0m\u001B[0;34m\u001B[0m\u001B[0;34m\u001B[0m\u001B[0m\n",
      "\u001B[0;32m~/opt/anaconda3/lib/python3.9/site-packages/bs4/__init__.py\u001B[0m in \u001B[0;36m__init__\u001B[0;34m(self, markup, features, builder, parse_only, from_encoding, exclude_encodings, element_classes, **kwargs)\u001B[0m\n\u001B[1;32m    360\u001B[0m             \u001B[0mself\u001B[0m\u001B[0;34m.\u001B[0m\u001B[0mreset\u001B[0m\u001B[0;34m(\u001B[0m\u001B[0;34m)\u001B[0m\u001B[0;34m\u001B[0m\u001B[0;34m\u001B[0m\u001B[0m\n\u001B[1;32m    361\u001B[0m             \u001B[0;32mtry\u001B[0m\u001B[0;34m:\u001B[0m\u001B[0;34m\u001B[0m\u001B[0;34m\u001B[0m\u001B[0m\n\u001B[0;32m--> 362\u001B[0;31m                 \u001B[0mself\u001B[0m\u001B[0;34m.\u001B[0m\u001B[0m_feed\u001B[0m\u001B[0;34m(\u001B[0m\u001B[0;34m)\u001B[0m\u001B[0;34m\u001B[0m\u001B[0;34m\u001B[0m\u001B[0m\n\u001B[0m\u001B[1;32m    363\u001B[0m                 \u001B[0msuccess\u001B[0m \u001B[0;34m=\u001B[0m \u001B[0;32mTrue\u001B[0m\u001B[0;34m\u001B[0m\u001B[0;34m\u001B[0m\u001B[0m\n\u001B[1;32m    364\u001B[0m                 \u001B[0;32mbreak\u001B[0m\u001B[0;34m\u001B[0m\u001B[0;34m\u001B[0m\u001B[0m\n",
      "\u001B[0;32m~/opt/anaconda3/lib/python3.9/site-packages/bs4/__init__.py\u001B[0m in \u001B[0;36m_feed\u001B[0;34m(self)\u001B[0m\n\u001B[1;32m    446\u001B[0m         \u001B[0mself\u001B[0m\u001B[0;34m.\u001B[0m\u001B[0mbuilder\u001B[0m\u001B[0;34m.\u001B[0m\u001B[0mreset\u001B[0m\u001B[0;34m(\u001B[0m\u001B[0;34m)\u001B[0m\u001B[0;34m\u001B[0m\u001B[0;34m\u001B[0m\u001B[0m\n\u001B[1;32m    447\u001B[0m \u001B[0;34m\u001B[0m\u001B[0m\n\u001B[0;32m--> 448\u001B[0;31m         \u001B[0mself\u001B[0m\u001B[0;34m.\u001B[0m\u001B[0mbuilder\u001B[0m\u001B[0;34m.\u001B[0m\u001B[0mfeed\u001B[0m\u001B[0;34m(\u001B[0m\u001B[0mself\u001B[0m\u001B[0;34m.\u001B[0m\u001B[0mmarkup\u001B[0m\u001B[0;34m)\u001B[0m\u001B[0;34m\u001B[0m\u001B[0;34m\u001B[0m\u001B[0m\n\u001B[0m\u001B[1;32m    449\u001B[0m         \u001B[0;31m# Close out any unfinished strings and close all the open tags.\u001B[0m\u001B[0;34m\u001B[0m\u001B[0;34m\u001B[0m\u001B[0m\n\u001B[1;32m    450\u001B[0m         \u001B[0mself\u001B[0m\u001B[0;34m.\u001B[0m\u001B[0mendData\u001B[0m\u001B[0;34m(\u001B[0m\u001B[0;34m)\u001B[0m\u001B[0;34m\u001B[0m\u001B[0;34m\u001B[0m\u001B[0m\n",
      "\u001B[0;32m~/opt/anaconda3/lib/python3.9/site-packages/bs4/builder/_lxml.py\u001B[0m in \u001B[0;36mfeed\u001B[0;34m(self, markup)\u001B[0m\n\u001B[1;32m    332\u001B[0m         \u001B[0;32mtry\u001B[0m\u001B[0;34m:\u001B[0m\u001B[0;34m\u001B[0m\u001B[0;34m\u001B[0m\u001B[0m\n\u001B[1;32m    333\u001B[0m             \u001B[0mself\u001B[0m\u001B[0;34m.\u001B[0m\u001B[0mparser\u001B[0m \u001B[0;34m=\u001B[0m \u001B[0mself\u001B[0m\u001B[0;34m.\u001B[0m\u001B[0mparser_for\u001B[0m\u001B[0;34m(\u001B[0m\u001B[0mencoding\u001B[0m\u001B[0;34m)\u001B[0m\u001B[0;34m\u001B[0m\u001B[0;34m\u001B[0m\u001B[0m\n\u001B[0;32m--> 334\u001B[0;31m             \u001B[0mself\u001B[0m\u001B[0;34m.\u001B[0m\u001B[0mparser\u001B[0m\u001B[0;34m.\u001B[0m\u001B[0mfeed\u001B[0m\u001B[0;34m(\u001B[0m\u001B[0mmarkup\u001B[0m\u001B[0;34m)\u001B[0m\u001B[0;34m\u001B[0m\u001B[0;34m\u001B[0m\u001B[0m\n\u001B[0m\u001B[1;32m    335\u001B[0m             \u001B[0mself\u001B[0m\u001B[0;34m.\u001B[0m\u001B[0mparser\u001B[0m\u001B[0;34m.\u001B[0m\u001B[0mclose\u001B[0m\u001B[0;34m(\u001B[0m\u001B[0;34m)\u001B[0m\u001B[0;34m\u001B[0m\u001B[0;34m\u001B[0m\u001B[0m\n\u001B[1;32m    336\u001B[0m         \u001B[0;32mexcept\u001B[0m \u001B[0;34m(\u001B[0m\u001B[0mUnicodeDecodeError\u001B[0m\u001B[0;34m,\u001B[0m \u001B[0mLookupError\u001B[0m\u001B[0;34m,\u001B[0m \u001B[0metree\u001B[0m\u001B[0;34m.\u001B[0m\u001B[0mParserError\u001B[0m\u001B[0;34m)\u001B[0m \u001B[0;32mas\u001B[0m \u001B[0me\u001B[0m\u001B[0;34m:\u001B[0m\u001B[0;34m\u001B[0m\u001B[0;34m\u001B[0m\u001B[0m\n",
      "\u001B[0;32msrc/lxml/parser.pxi\u001B[0m in \u001B[0;36mlxml.etree._FeedParser.feed\u001B[0;34m()\u001B[0m\n",
      "\u001B[0;32msrc/lxml/parser.pxi\u001B[0m in \u001B[0;36mlxml.etree._FeedParser.feed\u001B[0;34m()\u001B[0m\n",
      "\u001B[0;32msrc/lxml/parsertarget.pxi\u001B[0m in \u001B[0;36mlxml.etree._TargetParserContext._handleParseResult\u001B[0;34m()\u001B[0m\n",
      "\u001B[0;32msrc/lxml/parsertarget.pxi\u001B[0m in \u001B[0;36mlxml.etree._TargetParserContext._handleParseResult\u001B[0;34m()\u001B[0m\n",
      "\u001B[0;32msrc/lxml/etree.pyx\u001B[0m in \u001B[0;36mlxml.etree._ExceptionContext._raise_if_stored\u001B[0;34m()\u001B[0m\n",
      "\u001B[0;32msrc/lxml/saxparser.pxi\u001B[0m in \u001B[0;36mlxml.etree._handleSaxEndNoNs\u001B[0;34m()\u001B[0m\n",
      "\u001B[0;32msrc/lxml/parsertarget.pxi\u001B[0m in \u001B[0;36mlxml.etree._PythonSaxParserTarget._handleSaxEnd\u001B[0;34m()\u001B[0m\n",
      "\u001B[0;32m~/opt/anaconda3/lib/python3.9/site-packages/bs4/builder/_lxml.py\u001B[0m in \u001B[0;36mend\u001B[0;34m(self, name)\u001B[0m\n\u001B[1;32m    286\u001B[0m                     \u001B[0mnsprefix\u001B[0m \u001B[0;34m=\u001B[0m \u001B[0minverted_nsmap\u001B[0m\u001B[0;34m[\u001B[0m\u001B[0mnamespace\u001B[0m\u001B[0;34m]\u001B[0m\u001B[0;34m\u001B[0m\u001B[0;34m\u001B[0m\u001B[0m\n\u001B[1;32m    287\u001B[0m                     \u001B[0;32mbreak\u001B[0m\u001B[0;34m\u001B[0m\u001B[0;34m\u001B[0m\u001B[0m\n\u001B[0;32m--> 288\u001B[0;31m         \u001B[0mself\u001B[0m\u001B[0;34m.\u001B[0m\u001B[0msoup\u001B[0m\u001B[0;34m.\u001B[0m\u001B[0mhandle_endtag\u001B[0m\u001B[0;34m(\u001B[0m\u001B[0mname\u001B[0m\u001B[0;34m,\u001B[0m \u001B[0mnsprefix\u001B[0m\u001B[0;34m)\u001B[0m\u001B[0;34m\u001B[0m\u001B[0;34m\u001B[0m\u001B[0m\n\u001B[0m\u001B[1;32m    289\u001B[0m         \u001B[0;32mif\u001B[0m \u001B[0mlen\u001B[0m\u001B[0;34m(\u001B[0m\u001B[0mself\u001B[0m\u001B[0;34m.\u001B[0m\u001B[0mnsmaps\u001B[0m\u001B[0;34m)\u001B[0m \u001B[0;34m>\u001B[0m \u001B[0;36m1\u001B[0m\u001B[0;34m:\u001B[0m\u001B[0;34m\u001B[0m\u001B[0;34m\u001B[0m\u001B[0m\n\u001B[1;32m    290\u001B[0m             \u001B[0;31m# This tag, or one of its parents, introduced a namespace\u001B[0m\u001B[0;34m\u001B[0m\u001B[0;34m\u001B[0m\u001B[0m\n",
      "\u001B[0;32m~/opt/anaconda3/lib/python3.9/site-packages/bs4/__init__.py\u001B[0m in \u001B[0;36mhandle_endtag\u001B[0;34m(self, name, nsprefix)\u001B[0m\n\u001B[1;32m    735\u001B[0m         \u001B[0;31m#print(\"End tag: \" + name)\u001B[0m\u001B[0;34m\u001B[0m\u001B[0;34m\u001B[0m\u001B[0m\n\u001B[1;32m    736\u001B[0m         \u001B[0mself\u001B[0m\u001B[0;34m.\u001B[0m\u001B[0mendData\u001B[0m\u001B[0;34m(\u001B[0m\u001B[0;34m)\u001B[0m\u001B[0;34m\u001B[0m\u001B[0;34m\u001B[0m\u001B[0m\n\u001B[0;32m--> 737\u001B[0;31m         \u001B[0mself\u001B[0m\u001B[0;34m.\u001B[0m\u001B[0m_popToTag\u001B[0m\u001B[0;34m(\u001B[0m\u001B[0mname\u001B[0m\u001B[0;34m,\u001B[0m \u001B[0mnsprefix\u001B[0m\u001B[0;34m)\u001B[0m\u001B[0;34m\u001B[0m\u001B[0;34m\u001B[0m\u001B[0m\n\u001B[0m\u001B[1;32m    738\u001B[0m \u001B[0;34m\u001B[0m\u001B[0m\n\u001B[1;32m    739\u001B[0m     \u001B[0;32mdef\u001B[0m \u001B[0mhandle_data\u001B[0m\u001B[0;34m(\u001B[0m\u001B[0mself\u001B[0m\u001B[0;34m,\u001B[0m \u001B[0mdata\u001B[0m\u001B[0;34m)\u001B[0m\u001B[0;34m:\u001B[0m\u001B[0;34m\u001B[0m\u001B[0;34m\u001B[0m\u001B[0m\n",
      "\u001B[0;32m~/opt/anaconda3/lib/python3.9/site-packages/bs4/__init__.py\u001B[0m in \u001B[0;36m_popToTag\u001B[0;34m(self, name, nsprefix, inclusivePop)\u001B[0m\n\u001B[1;32m    677\u001B[0m \u001B[0;34m\u001B[0m\u001B[0m\n\u001B[1;32m    678\u001B[0m         \u001B[0mstack_size\u001B[0m \u001B[0;34m=\u001B[0m \u001B[0mlen\u001B[0m\u001B[0;34m(\u001B[0m\u001B[0mself\u001B[0m\u001B[0;34m.\u001B[0m\u001B[0mtagStack\u001B[0m\u001B[0;34m)\u001B[0m\u001B[0;34m\u001B[0m\u001B[0;34m\u001B[0m\u001B[0m\n\u001B[0;32m--> 679\u001B[0;31m         \u001B[0;32mfor\u001B[0m \u001B[0mi\u001B[0m \u001B[0;32min\u001B[0m \u001B[0mrange\u001B[0m\u001B[0;34m(\u001B[0m\u001B[0mstack_size\u001B[0m \u001B[0;34m-\u001B[0m \u001B[0;36m1\u001B[0m\u001B[0;34m,\u001B[0m \u001B[0;36m0\u001B[0m\u001B[0;34m,\u001B[0m \u001B[0;34m-\u001B[0m\u001B[0;36m1\u001B[0m\u001B[0;34m)\u001B[0m\u001B[0;34m:\u001B[0m\u001B[0;34m\u001B[0m\u001B[0;34m\u001B[0m\u001B[0m\n\u001B[0m\u001B[1;32m    680\u001B[0m             \u001B[0;32mif\u001B[0m \u001B[0;32mnot\u001B[0m \u001B[0mself\u001B[0m\u001B[0;34m.\u001B[0m\u001B[0mopen_tag_counter\u001B[0m\u001B[0;34m.\u001B[0m\u001B[0mget\u001B[0m\u001B[0;34m(\u001B[0m\u001B[0mname\u001B[0m\u001B[0;34m)\u001B[0m\u001B[0;34m:\u001B[0m\u001B[0;34m\u001B[0m\u001B[0;34m\u001B[0m\u001B[0m\n\u001B[1;32m    681\u001B[0m                 \u001B[0;32mbreak\u001B[0m\u001B[0;34m\u001B[0m\u001B[0;34m\u001B[0m\u001B[0m\n",
      "\u001B[0;31mKeyboardInterrupt\u001B[0m: "
     ]
    }
   ],
   "source": [
    "# Read dataset from json.gz\n",
    "\n",
    "reader = InflationJSONA101DatasetReader()\n",
    "dataset = reader.read(\"../../a101.all.json.gz\")\n"
   ]
  },
  {
   "cell_type": "code",
   "execution_count": 4,
   "metadata": {
    "pycharm": {
     "name": "#%%\n"
    }
   },
   "outputs": [],
   "source": [
    "# Save dataset\n",
    "\n",
    "save_dataset(dataset, 'A101_full_data.pickle')"
   ]
  },
  {
   "cell_type": "code",
   "execution_count": 10,
   "metadata": {
    "pycharm": {
     "name": "#%%\n"
    }
   },
   "outputs": [],
   "source": [
    "# Read dataset\n",
    "\n",
    "dt = read_dataset('../../inflation-resources/data/a101_full_data.pickle')\n",
    "\n",
    "# Convert dataset to data frame\n",
    "\n",
    "df = convert_dataset_to_dataframe(dt)"
   ]
  },
  {
   "cell_type": "code",
   "execution_count": 12,
   "metadata": {
    "pycharm": {
     "name": "#%%\n"
    }
   },
   "outputs": [
    {
     "data": {
      "text/html": [
       "<div>\n",
       "<style scoped>\n",
       "    .dataframe tbody tr th:only-of-type {\n",
       "        vertical-align: middle;\n",
       "    }\n",
       "\n",
       "    .dataframe tbody tr th {\n",
       "        vertical-align: top;\n",
       "    }\n",
       "\n",
       "    .dataframe thead th {\n",
       "        text-align: right;\n",
       "    }\n",
       "</style>\n",
       "<table border=\"1\" class=\"dataframe\">\n",
       "  <thead>\n",
       "    <tr style=\"text-align: right;\">\n",
       "      <th></th>\n",
       "      <th>product_name</th>\n",
       "      <th>product_url</th>\n",
       "      <th>product_code</th>\n",
       "      <th>product_brand</th>\n",
       "      <th>price</th>\n",
       "      <th>currency</th>\n",
       "      <th>in_stock</th>\n",
       "      <th>sample_date</th>\n",
       "    </tr>\n",
       "  </thead>\n",
       "  <tbody>\n",
       "    <tr>\n",
       "      <th>0</th>\n",
       "      <td>Ahşap Ramazan Davulu</td>\n",
       "      <td>https://www.a101.com.tr/anne-bebek/ahsap-ramaz...</td>\n",
       "      <td>26017745</td>\n",
       "      <td></td>\n",
       "      <td>49.95</td>\n",
       "      <td>TRY</td>\n",
       "      <td>True</td>\n",
       "      <td>2021-11-30 00:31:22</td>\n",
       "    </tr>\n",
       "    <tr>\n",
       "      <th>1</th>\n",
       "      <td>Barbie Twistable Scooter 3 Tekerlekli</td>\n",
       "      <td>https://www.a101.com.tr/anne-bebek/barbie-twis...</td>\n",
       "      <td>26018419</td>\n",
       "      <td></td>\n",
       "      <td>129.95</td>\n",
       "      <td>TRY</td>\n",
       "      <td>True</td>\n",
       "      <td>2021-12-04 15:51:21</td>\n",
       "    </tr>\n",
       "    <tr>\n",
       "      <th>2</th>\n",
       "      <td>Bebek Alt Üst Takım Beyaz</td>\n",
       "      <td>https://www.a101.com.tr/anne-bebek/bebek-alt-u...</td>\n",
       "      <td>26014709004</td>\n",
       "      <td></td>\n",
       "      <td>19.95</td>\n",
       "      <td>TRY</td>\n",
       "      <td>True</td>\n",
       "      <td>2021-12-06 08:30:06</td>\n",
       "    </tr>\n",
       "    <tr>\n",
       "      <th>3</th>\n",
       "      <td>Berber Oyun Hamuru Seti</td>\n",
       "      <td>https://www.a101.com.tr/anne-bebek/berber-oyun...</td>\n",
       "      <td>26016222</td>\n",
       "      <td></td>\n",
       "      <td>24.95</td>\n",
       "      <td>TRY</td>\n",
       "      <td>False</td>\n",
       "      <td>2021-12-08 07:13:18</td>\n",
       "    </tr>\n",
       "    <tr>\n",
       "      <th>4</th>\n",
       "      <td>Canbebe Islak Havlu 3x56 cm Adet</td>\n",
       "      <td>https://www.a101.com.tr/anne-bebek/canbebe-isl...</td>\n",
       "      <td>23000698</td>\n",
       "      <td>Canbebe</td>\n",
       "      <td>16.75</td>\n",
       "      <td>TRY</td>\n",
       "      <td>False</td>\n",
       "      <td>2021-12-07 09:04:26</td>\n",
       "    </tr>\n",
       "  </tbody>\n",
       "</table>\n",
       "</div>"
      ],
      "text/plain": [
       "                            product_name  \\\n",
       "0                   Ahşap Ramazan Davulu   \n",
       "1  Barbie Twistable Scooter 3 Tekerlekli   \n",
       "2              Bebek Alt Üst Takım Beyaz   \n",
       "3                Berber Oyun Hamuru Seti   \n",
       "4       Canbebe Islak Havlu 3x56 cm Adet   \n",
       "\n",
       "                                         product_url product_code  \\\n",
       "0  https://www.a101.com.tr/anne-bebek/ahsap-ramaz...     26017745   \n",
       "1  https://www.a101.com.tr/anne-bebek/barbie-twis...     26018419   \n",
       "2  https://www.a101.com.tr/anne-bebek/bebek-alt-u...  26014709004   \n",
       "3  https://www.a101.com.tr/anne-bebek/berber-oyun...     26016222   \n",
       "4  https://www.a101.com.tr/anne-bebek/canbebe-isl...     23000698   \n",
       "\n",
       "  product_brand   price currency  in_stock         sample_date  \n",
       "0                 49.95      TRY      True 2021-11-30 00:31:22  \n",
       "1                129.95      TRY      True 2021-12-04 15:51:21  \n",
       "2                 19.95      TRY      True 2021-12-06 08:30:06  \n",
       "3                 24.95      TRY     False 2021-12-08 07:13:18  \n",
       "4       Canbebe   16.75      TRY     False 2021-12-07 09:04:26  "
      ]
     },
     "execution_count": 12,
     "metadata": {},
     "output_type": "execute_result"
    }
   ],
   "source": [
    "df.head()"
   ]
  },
  {
   "cell_type": "code",
   "execution_count": 22,
   "metadata": {
    "pycharm": {
     "name": "#%%\n"
    }
   },
   "outputs": [
    {
     "name": "stdout",
     "output_type": "stream",
     "text": [
      "<class 'pandas.core.frame.DataFrame'>\n",
      "RangeIndex: 5543 entries, 0 to 5542\n",
      "Data columns (total 8 columns):\n",
      " #   Column         Non-Null Count  Dtype         \n",
      "---  ------         --------------  -----         \n",
      " 0   product_name   5543 non-null   object        \n",
      " 1   product_url    5543 non-null   object        \n",
      " 2   product_code   5543 non-null   object        \n",
      " 3   product_brand  5543 non-null   object        \n",
      " 4   price          5543 non-null   float64       \n",
      " 5   currency       5543 non-null   object        \n",
      " 6   in_stock       5543 non-null   bool          \n",
      " 7   sample_date    5543 non-null   datetime64[ns]\n",
      "dtypes: bool(1), datetime64[ns](1), float64(1), object(5)\n",
      "memory usage: 308.7+ KB\n"
     ]
    }
   ],
   "source": [
    "df.info()"
   ]
  },
  {
   "cell_type": "code",
   "execution_count": 14,
   "metadata": {
    "pycharm": {
     "name": "#%%\n"
    }
   },
   "outputs": [
    {
     "data": {
      "text/html": [
       "<div>\n",
       "<style scoped>\n",
       "    .dataframe tbody tr th:only-of-type {\n",
       "        vertical-align: middle;\n",
       "    }\n",
       "\n",
       "    .dataframe tbody tr th {\n",
       "        vertical-align: top;\n",
       "    }\n",
       "\n",
       "    .dataframe thead th {\n",
       "        text-align: right;\n",
       "    }\n",
       "</style>\n",
       "<table border=\"1\" class=\"dataframe\">\n",
       "  <thead>\n",
       "    <tr style=\"text-align: right;\">\n",
       "      <th></th>\n",
       "      <th>price</th>\n",
       "    </tr>\n",
       "  </thead>\n",
       "  <tbody>\n",
       "    <tr>\n",
       "      <th>count</th>\n",
       "      <td>5543.000000</td>\n",
       "    </tr>\n",
       "    <tr>\n",
       "      <th>mean</th>\n",
       "      <td>245.183675</td>\n",
       "    </tr>\n",
       "    <tr>\n",
       "      <th>std</th>\n",
       "      <td>839.561598</td>\n",
       "    </tr>\n",
       "    <tr>\n",
       "      <th>min</th>\n",
       "      <td>0.500000</td>\n",
       "    </tr>\n",
       "    <tr>\n",
       "      <th>25%</th>\n",
       "      <td>9.950000</td>\n",
       "    </tr>\n",
       "    <tr>\n",
       "      <th>50%</th>\n",
       "      <td>24.900000</td>\n",
       "    </tr>\n",
       "    <tr>\n",
       "      <th>75%</th>\n",
       "      <td>99.900000</td>\n",
       "    </tr>\n",
       "    <tr>\n",
       "      <th>max</th>\n",
       "      <td>14699.000000</td>\n",
       "    </tr>\n",
       "  </tbody>\n",
       "</table>\n",
       "</div>"
      ],
      "text/plain": [
       "              price\n",
       "count   5543.000000\n",
       "mean     245.183675\n",
       "std      839.561598\n",
       "min        0.500000\n",
       "25%        9.950000\n",
       "50%       24.900000\n",
       "75%       99.900000\n",
       "max    14699.000000"
      ]
     },
     "execution_count": 14,
     "metadata": {},
     "output_type": "execute_result"
    }
   ],
   "source": [
    "df.describe()"
   ]
  },
  {
   "cell_type": "code",
   "execution_count": 18,
   "metadata": {
    "pycharm": {
     "name": "#%%\n"
    }
   },
   "outputs": [
    {
     "ename": "TypeError",
     "evalue": "'tuple' object is not callable",
     "output_type": "error",
     "traceback": [
      "\u001B[0;31m---------------------------------------------------------------------------\u001B[0m",
      "\u001B[0;31mTypeError\u001B[0m                                 Traceback (most recent call last)",
      "\u001B[0;32m/var/folders/8l/zq34m2ln2tv4g0x8w9qm0ckm0000gn/T/ipykernel_50375/2739220193.py\u001B[0m in \u001B[0;36m<module>\u001B[0;34m\u001B[0m\n\u001B[0;32m----> 1\u001B[0;31m \u001B[0mdf\u001B[0m\u001B[0;34m.\u001B[0m\u001B[0mshape\u001B[0m\u001B[0;34m(\u001B[0m\u001B[0;34m)\u001B[0m\u001B[0;34m\u001B[0m\u001B[0;34m\u001B[0m\u001B[0m\n\u001B[0m",
      "\u001B[0;31mTypeError\u001B[0m: 'tuple' object is not callable"
     ]
    }
   ],
   "source": [
    "# df.shape()\n",
    "# TypeError: 'tuple' object is not callable  # Q: niyeyse patliyor?"
   ]
  },
  {
   "cell_type": "code",
   "execution_count": 52,
   "metadata": {
    "pycharm": {
     "name": "#%%\n"
    }
   },
   "outputs": [
    {
     "name": "stdout",
     "output_type": "stream",
     "text": [
      "3391 items in stocks in total of 5543 items.\n",
      "61.18% of products in the stock.\n"
     ]
    }
   ],
   "source": [
    "# How many items are in stock?\n",
    "print(f\"{len(df[df['in_stock'] == True])} items in stocks in total of {len(df)} items.\",\n",
    "      f\"{round(len(df[df['in_stock'] == True]) / len(df), 4) * 100}% of products in the stock.\", sep='\\n')"
   ]
  },
  {
   "cell_type": "code",
   "execution_count": null,
   "metadata": {
    "pycharm": {
     "name": "#%%\n"
    }
   },
   "outputs": [],
   "source": []
  }
 ],
 "metadata": {
  "kernelspec": {
   "display_name": "Python 3 (ipykernel)",
   "language": "python",
   "name": "python3"
  },
  "language_info": {
   "codemirror_mode": {
    "name": "ipython",
    "version": 3
   },
   "file_extension": ".py",
   "mimetype": "text/x-python",
   "name": "python",
   "nbconvert_exporter": "python",
   "pygments_lexer": "ipython3",
   "version": "3.9.7"
  }
 },
 "nbformat": 4,
 "nbformat_minor": 1
}
