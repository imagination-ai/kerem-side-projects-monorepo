{
 "cells": [
  {
   "cell_type": "code",
   "execution_count": 90,
   "metadata": {
    "collapsed": true
   },
   "outputs": [],
   "source": [
    "import pandas as pd\n",
    "import matplotlib.pyplot as plt\n",
    "import seaborn as sns\n",
    "from inflation.dataset.reader import InflationJSONA101DatasetReader, InflationDataset"
   ]
  },
  {
   "cell_type": "code",
   "execution_count": 2,
   "metadata": {
    "pycharm": {
     "name": "#%%\n"
    }
   },
   "outputs": [
    {
     "name": "stdout",
     "output_type": "stream",
     "text": [
      "2022-01-21 14:44:59 [INFO] inflation.dataset.reader: total_pages=14533, item_pages=5543\n"
     ]
    }
   ],
   "source": [
    "# Read dataset from json.gz\n",
    "\n",
    "reader = InflationJSONA101DatasetReader()\n",
    "dataset = reader.read(\"../../a101.all.json.gz\")\n",
    "# dataset = reader.read(\"../../a101.med.json.gz\")"
   ]
  },
  {
   "cell_type": "markdown",
   "source": [],
   "metadata": {
    "collapsed": false
   }
  },
  {
   "cell_type": "code",
   "execution_count": 3,
   "metadata": {
    "pycharm": {
     "name": "#%%\n"
    }
   },
   "outputs": [],
   "source": [
    "# Save dataset\n",
    "\n",
    "dataset.save_dataset('A101_full_data.pickle')"
   ]
  },
  {
   "cell_type": "code",
   "execution_count": 44,
   "metadata": {
    "pycharm": {
     "name": "#%%\n"
    }
   },
   "outputs": [],
   "source": [
    "# Read dataset\n",
    "\n",
    "dt = InflationDataset.read_dataset('../../inflation-resources/data/a101_full_data.pickle')\n",
    "\n",
    "type(dt)\n",
    "# Convert dataset to data frame\n",
    "\n",
    "df = InflationDataset.to_df(dt)"
   ]
  },
  {
   "cell_type": "code",
   "execution_count": 45,
   "metadata": {
    "pycharm": {
     "name": "#%%\n"
    }
   },
   "outputs": [
    {
     "data": {
      "text/plain": "                            product_name  \\\n0                   Ahşap Ramazan Davulu   \n1  Barbie Twistable Scooter 3 Tekerlekli   \n2              Bebek Alt Üst Takım Beyaz   \n3                Berber Oyun Hamuru Seti   \n4       Canbebe Islak Havlu 3x56 cm Adet   \n\n                                         product_url product_code  \\\n0  https://www.a101.com.tr/anne-bebek/ahsap-ramaz...     26017745   \n1  https://www.a101.com.tr/anne-bebek/barbie-twis...     26018419   \n2  https://www.a101.com.tr/anne-bebek/bebek-alt-u...  26014709004   \n3  https://www.a101.com.tr/anne-bebek/berber-oyun...     26016222   \n4  https://www.a101.com.tr/anne-bebek/canbebe-isl...     23000698   \n\n  product_brand   price currency  in_stock         sample_date  \n0                 49.95      TRY      True 2021-11-30 00:31:22  \n1                129.95      TRY      True 2021-12-04 15:51:21  \n2                 19.95      TRY      True 2021-12-06 08:30:06  \n3                 24.95      TRY     False 2021-12-08 07:13:18  \n4       Canbebe   16.75      TRY     False 2021-12-07 09:04:26  ",
      "text/html": "<div>\n<style scoped>\n    .dataframe tbody tr th:only-of-type {\n        vertical-align: middle;\n    }\n\n    .dataframe tbody tr th {\n        vertical-align: top;\n    }\n\n    .dataframe thead th {\n        text-align: right;\n    }\n</style>\n<table border=\"1\" class=\"dataframe\">\n  <thead>\n    <tr style=\"text-align: right;\">\n      <th></th>\n      <th>product_name</th>\n      <th>product_url</th>\n      <th>product_code</th>\n      <th>product_brand</th>\n      <th>price</th>\n      <th>currency</th>\n      <th>in_stock</th>\n      <th>sample_date</th>\n    </tr>\n  </thead>\n  <tbody>\n    <tr>\n      <th>0</th>\n      <td>Ahşap Ramazan Davulu</td>\n      <td>https://www.a101.com.tr/anne-bebek/ahsap-ramaz...</td>\n      <td>26017745</td>\n      <td></td>\n      <td>49.95</td>\n      <td>TRY</td>\n      <td>True</td>\n      <td>2021-11-30 00:31:22</td>\n    </tr>\n    <tr>\n      <th>1</th>\n      <td>Barbie Twistable Scooter 3 Tekerlekli</td>\n      <td>https://www.a101.com.tr/anne-bebek/barbie-twis...</td>\n      <td>26018419</td>\n      <td></td>\n      <td>129.95</td>\n      <td>TRY</td>\n      <td>True</td>\n      <td>2021-12-04 15:51:21</td>\n    </tr>\n    <tr>\n      <th>2</th>\n      <td>Bebek Alt Üst Takım Beyaz</td>\n      <td>https://www.a101.com.tr/anne-bebek/bebek-alt-u...</td>\n      <td>26014709004</td>\n      <td></td>\n      <td>19.95</td>\n      <td>TRY</td>\n      <td>True</td>\n      <td>2021-12-06 08:30:06</td>\n    </tr>\n    <tr>\n      <th>3</th>\n      <td>Berber Oyun Hamuru Seti</td>\n      <td>https://www.a101.com.tr/anne-bebek/berber-oyun...</td>\n      <td>26016222</td>\n      <td></td>\n      <td>24.95</td>\n      <td>TRY</td>\n      <td>False</td>\n      <td>2021-12-08 07:13:18</td>\n    </tr>\n    <tr>\n      <th>4</th>\n      <td>Canbebe Islak Havlu 3x56 cm Adet</td>\n      <td>https://www.a101.com.tr/anne-bebek/canbebe-isl...</td>\n      <td>23000698</td>\n      <td>Canbebe</td>\n      <td>16.75</td>\n      <td>TRY</td>\n      <td>False</td>\n      <td>2021-12-07 09:04:26</td>\n    </tr>\n  </tbody>\n</table>\n</div>"
     },
     "execution_count": 45,
     "metadata": {},
     "output_type": "execute_result"
    }
   ],
   "source": [
    "df.head()"
   ]
  },
  {
   "cell_type": "code",
   "execution_count": 46,
   "metadata": {
    "pycharm": {
     "name": "#%%\n"
    }
   },
   "outputs": [
    {
     "name": "stdout",
     "output_type": "stream",
     "text": [
      "<class 'pandas.core.frame.DataFrame'>\n",
      "RangeIndex: 5543 entries, 0 to 5542\n",
      "Data columns (total 8 columns):\n",
      " #   Column         Non-Null Count  Dtype         \n",
      "---  ------         --------------  -----         \n",
      " 0   product_name   5543 non-null   object        \n",
      " 1   product_url    5543 non-null   object        \n",
      " 2   product_code   5543 non-null   object        \n",
      " 3   product_brand  5543 non-null   object        \n",
      " 4   price          5543 non-null   float64       \n",
      " 5   currency       5543 non-null   object        \n",
      " 6   in_stock       5543 non-null   bool          \n",
      " 7   sample_date    5543 non-null   datetime64[ns]\n",
      "dtypes: bool(1), datetime64[ns](1), float64(1), object(5)\n",
      "memory usage: 308.7+ KB\n"
     ]
    }
   ],
   "source": [
    "df.info()"
   ]
  },
  {
   "cell_type": "code",
   "execution_count": 7,
   "metadata": {
    "pycharm": {
     "name": "#%%\n"
    }
   },
   "outputs": [
    {
     "data": {
      "text/plain": "              price\ncount   5543.000000\nmean     245.183675\nstd      839.561598\nmin        0.500000\n25%        9.950000\n50%       24.900000\n75%       99.900000\nmax    14699.000000",
      "text/html": "<div>\n<style scoped>\n    .dataframe tbody tr th:only-of-type {\n        vertical-align: middle;\n    }\n\n    .dataframe tbody tr th {\n        vertical-align: top;\n    }\n\n    .dataframe thead th {\n        text-align: right;\n    }\n</style>\n<table border=\"1\" class=\"dataframe\">\n  <thead>\n    <tr style=\"text-align: right;\">\n      <th></th>\n      <th>price</th>\n    </tr>\n  </thead>\n  <tbody>\n    <tr>\n      <th>count</th>\n      <td>5543.000000</td>\n    </tr>\n    <tr>\n      <th>mean</th>\n      <td>245.183675</td>\n    </tr>\n    <tr>\n      <th>std</th>\n      <td>839.561598</td>\n    </tr>\n    <tr>\n      <th>min</th>\n      <td>0.500000</td>\n    </tr>\n    <tr>\n      <th>25%</th>\n      <td>9.950000</td>\n    </tr>\n    <tr>\n      <th>50%</th>\n      <td>24.900000</td>\n    </tr>\n    <tr>\n      <th>75%</th>\n      <td>99.900000</td>\n    </tr>\n    <tr>\n      <th>max</th>\n      <td>14699.000000</td>\n    </tr>\n  </tbody>\n</table>\n</div>"
     },
     "execution_count": 7,
     "metadata": {},
     "output_type": "execute_result"
    }
   ],
   "source": [
    "df.describe()"
   ]
  },
  {
   "cell_type": "code",
   "execution_count": 8,
   "metadata": {
    "pycharm": {
     "name": "#%%\n"
    }
   },
   "outputs": [],
   "source": [
    "# df.shape()\n",
    "# TypeError: 'tuple' object is not callable  # Q: niyeyse patliyor?"
   ]
  },
  {
   "cell_type": "code",
   "execution_count": 47,
   "metadata": {
    "pycharm": {
     "name": "#%%\n"
    }
   },
   "outputs": [
    {
     "name": "stdout",
     "output_type": "stream",
     "text": [
      "3391 items in stocks in total of 5543 items.\n",
      "61.18% of products in the stock.\n"
     ]
    }
   ],
   "source": [
    "# How many items are in stock?\n",
    "print(f\"{len(df[df['in_stock'] == True])} items in stocks in total of {len(df)} items.\",\n",
    "      f\"{round(len(df[df['in_stock'] == True]) / len(df), 4) * 100}% of products in the stock.\", sep='\\n')"
   ]
  },
  {
   "cell_type": "code",
   "execution_count": 138,
   "outputs": [
    {
     "data": {
      "text/plain": "                            product_name  \\\n0                   Ahşap Ramazan Davulu   \n1  Barbie Twistable Scooter 3 Tekerlekli   \n2              Bebek Alt Üst Takım Beyaz   \n3                Berber Oyun Hamuru Seti   \n4       Canbebe Islak Havlu 3x56 cm Adet   \n\n                                         product_url product_code  \\\n0  https://www.a101.com.tr/anne-bebek/ahsap-ramaz...     26017745   \n1  https://www.a101.com.tr/anne-bebek/barbie-twis...     26018419   \n2  https://www.a101.com.tr/anne-bebek/bebek-alt-u...  26014709004   \n3  https://www.a101.com.tr/anne-bebek/berber-oyun...     26016222   \n4  https://www.a101.com.tr/anne-bebek/canbebe-isl...     23000698   \n\n  product_brand   price currency  in_stock         sample_date        date  \n0                 49.95      TRY      True 2021-11-30 00:31:22  30-11-2021  \n1                129.95      TRY      True 2021-12-04 15:51:21  04-12-2021  \n2                 19.95      TRY      True 2021-12-06 08:30:06  06-12-2021  \n3                 24.95      TRY     False 2021-12-08 07:13:18  08-12-2021  \n4       Canbebe   16.75      TRY     False 2021-12-07 09:04:26  07-12-2021  ",
      "text/html": "<div>\n<style scoped>\n    .dataframe tbody tr th:only-of-type {\n        vertical-align: middle;\n    }\n\n    .dataframe tbody tr th {\n        vertical-align: top;\n    }\n\n    .dataframe thead th {\n        text-align: right;\n    }\n</style>\n<table border=\"1\" class=\"dataframe\">\n  <thead>\n    <tr style=\"text-align: right;\">\n      <th></th>\n      <th>product_name</th>\n      <th>product_url</th>\n      <th>product_code</th>\n      <th>product_brand</th>\n      <th>price</th>\n      <th>currency</th>\n      <th>in_stock</th>\n      <th>sample_date</th>\n      <th>date</th>\n    </tr>\n  </thead>\n  <tbody>\n    <tr>\n      <th>0</th>\n      <td>Ahşap Ramazan Davulu</td>\n      <td>https://www.a101.com.tr/anne-bebek/ahsap-ramaz...</td>\n      <td>26017745</td>\n      <td></td>\n      <td>49.95</td>\n      <td>TRY</td>\n      <td>True</td>\n      <td>2021-11-30 00:31:22</td>\n      <td>30-11-2021</td>\n    </tr>\n    <tr>\n      <th>1</th>\n      <td>Barbie Twistable Scooter 3 Tekerlekli</td>\n      <td>https://www.a101.com.tr/anne-bebek/barbie-twis...</td>\n      <td>26018419</td>\n      <td></td>\n      <td>129.95</td>\n      <td>TRY</td>\n      <td>True</td>\n      <td>2021-12-04 15:51:21</td>\n      <td>04-12-2021</td>\n    </tr>\n    <tr>\n      <th>2</th>\n      <td>Bebek Alt Üst Takım Beyaz</td>\n      <td>https://www.a101.com.tr/anne-bebek/bebek-alt-u...</td>\n      <td>26014709004</td>\n      <td></td>\n      <td>19.95</td>\n      <td>TRY</td>\n      <td>True</td>\n      <td>2021-12-06 08:30:06</td>\n      <td>06-12-2021</td>\n    </tr>\n    <tr>\n      <th>3</th>\n      <td>Berber Oyun Hamuru Seti</td>\n      <td>https://www.a101.com.tr/anne-bebek/berber-oyun...</td>\n      <td>26016222</td>\n      <td></td>\n      <td>24.95</td>\n      <td>TRY</td>\n      <td>False</td>\n      <td>2021-12-08 07:13:18</td>\n      <td>08-12-2021</td>\n    </tr>\n    <tr>\n      <th>4</th>\n      <td>Canbebe Islak Havlu 3x56 cm Adet</td>\n      <td>https://www.a101.com.tr/anne-bebek/canbebe-isl...</td>\n      <td>23000698</td>\n      <td>Canbebe</td>\n      <td>16.75</td>\n      <td>TRY</td>\n      <td>False</td>\n      <td>2021-12-07 09:04:26</td>\n      <td>07-12-2021</td>\n    </tr>\n  </tbody>\n</table>\n</div>"
     },
     "execution_count": 138,
     "metadata": {},
     "output_type": "execute_result"
    }
   ],
   "source": [
    "# Create new date column (We don't need the hour part of the date object)\n",
    "# Also drop original date column\n",
    "df['date'] = df['sample_date'].apply(lambda x: pd.Timestamp.strftime(x, '%d-%m-%Y'))\n",
    "df.head()"
   ],
   "metadata": {
    "collapsed": false,
    "pycharm": {
     "name": "#%%\n"
    }
   }
  },
  {
   "cell_type": "code",
   "execution_count": 139,
   "outputs": [
    {
     "data": {
      "text/plain": "3391"
     },
     "execution_count": 139,
     "metadata": {},
     "output_type": "execute_result"
    }
   ],
   "source": [
    "# Subset: only takes items that are in stocks\n",
    "\n",
    "df_in_stock = df[df['in_stock'] == True]\n",
    "len(df_in_stock)"
   ],
   "metadata": {
    "collapsed": false,
    "pycharm": {
     "name": "#%%\n"
    }
   }
  },
  {
   "cell_type": "code",
   "execution_count": 140,
   "outputs": [
    {
     "data": {
      "text/plain": "                            product_name  \\\n0                   Ahşap Ramazan Davulu   \n1  Barbie Twistable Scooter 3 Tekerlekli   \n2              Bebek Alt Üst Takım Beyaz   \n5            Dinozor Ailesi Puzzle Pembe   \n6            Dinozor Ailesi Puzzle Yeşil   \n\n                                         product_url product_code  \\\n0  https://www.a101.com.tr/anne-bebek/ahsap-ramaz...     26017745   \n1  https://www.a101.com.tr/anne-bebek/barbie-twis...     26018419   \n2  https://www.a101.com.tr/anne-bebek/bebek-alt-u...  26014709004   \n5  https://www.a101.com.tr/anne-bebek/dinozor-ail...  26020523001   \n6  https://www.a101.com.tr/anne-bebek/dinozor-ail...  26020523002   \n\n  product_brand   price currency  in_stock        date  \n0                 49.95      TRY      True  30-11-2021  \n1                129.95      TRY      True  04-12-2021  \n2                 19.95      TRY      True  06-12-2021  \n5                  9.95      TRY      True  03-12-2021  \n6                  9.95      TRY      True  30-11-2021  ",
      "text/html": "<div>\n<style scoped>\n    .dataframe tbody tr th:only-of-type {\n        vertical-align: middle;\n    }\n\n    .dataframe tbody tr th {\n        vertical-align: top;\n    }\n\n    .dataframe thead th {\n        text-align: right;\n    }\n</style>\n<table border=\"1\" class=\"dataframe\">\n  <thead>\n    <tr style=\"text-align: right;\">\n      <th></th>\n      <th>product_name</th>\n      <th>product_url</th>\n      <th>product_code</th>\n      <th>product_brand</th>\n      <th>price</th>\n      <th>currency</th>\n      <th>in_stock</th>\n      <th>date</th>\n    </tr>\n  </thead>\n  <tbody>\n    <tr>\n      <th>0</th>\n      <td>Ahşap Ramazan Davulu</td>\n      <td>https://www.a101.com.tr/anne-bebek/ahsap-ramaz...</td>\n      <td>26017745</td>\n      <td></td>\n      <td>49.95</td>\n      <td>TRY</td>\n      <td>True</td>\n      <td>30-11-2021</td>\n    </tr>\n    <tr>\n      <th>1</th>\n      <td>Barbie Twistable Scooter 3 Tekerlekli</td>\n      <td>https://www.a101.com.tr/anne-bebek/barbie-twis...</td>\n      <td>26018419</td>\n      <td></td>\n      <td>129.95</td>\n      <td>TRY</td>\n      <td>True</td>\n      <td>04-12-2021</td>\n    </tr>\n    <tr>\n      <th>2</th>\n      <td>Bebek Alt Üst Takım Beyaz</td>\n      <td>https://www.a101.com.tr/anne-bebek/bebek-alt-u...</td>\n      <td>26014709004</td>\n      <td></td>\n      <td>19.95</td>\n      <td>TRY</td>\n      <td>True</td>\n      <td>06-12-2021</td>\n    </tr>\n    <tr>\n      <th>5</th>\n      <td>Dinozor Ailesi Puzzle Pembe</td>\n      <td>https://www.a101.com.tr/anne-bebek/dinozor-ail...</td>\n      <td>26020523001</td>\n      <td></td>\n      <td>9.95</td>\n      <td>TRY</td>\n      <td>True</td>\n      <td>03-12-2021</td>\n    </tr>\n    <tr>\n      <th>6</th>\n      <td>Dinozor Ailesi Puzzle Yeşil</td>\n      <td>https://www.a101.com.tr/anne-bebek/dinozor-ail...</td>\n      <td>26020523002</td>\n      <td></td>\n      <td>9.95</td>\n      <td>TRY</td>\n      <td>True</td>\n      <td>30-11-2021</td>\n    </tr>\n  </tbody>\n</table>\n</div>"
     },
     "execution_count": 140,
     "metadata": {},
     "output_type": "execute_result"
    }
   ],
   "source": [
    "# Drop original date column\n",
    "df_in_stock = df_in_stock.drop(columns=['sample_date'])\n",
    "df_in_stock.head()"
   ],
   "metadata": {
    "collapsed": false,
    "pycharm": {
     "name": "#%%\n"
    }
   }
  },
  {
   "cell_type": "code",
   "execution_count": 141,
   "outputs": [
    {
     "data": {
      "text/plain": "                                           product_name  \\\n1331  0-3 Yaş İlk Kitaplarım Serisi Hayvanlar - 12 K...   \n1822                  1 More Ecs-3001  Earbuds Kulaklık   \n2939   1. Sınıf Okula Başlangıç Okuma Ve Matematik Seti   \n4423  1. Sınıflar İçin Pratik Matematik Serisi - 6 K...   \n1332      10X15 Cm 100 Yaprak Not Defteri Çizgili, Sarı   \n\n                                            product_url product_code  \\\n1331  https://www.a101.com.tr/kitap-kirtasiye/0-3-ya...     26006372   \n1822  https://www.a101.com.tr/elektronik/1-more-ecs-...     25002341   \n2939  https://www.a101.com.tr/kitap-kirtasiye/1-sini...     26012892   \n4423  https://www.a101.com.tr/kitap-kirtasiye/1-sini...     26012921   \n1332  https://www.a101.com.tr/kitap-kirtasiye/10x15-...  26015118007   \n\n     product_brand   price currency  in_stock        date  \n1331                 83.90      TRY      True  25-10-2021  \n1822        Xiaomi  179.95      TRY      True  21-09-2021  \n2939                 55.90      TRY      True  18-09-2021  \n4423                 34.90      TRY      True  28-07-2021  \n1332                  2.75      TRY      True  27-10-2021  ",
      "text/html": "<div>\n<style scoped>\n    .dataframe tbody tr th:only-of-type {\n        vertical-align: middle;\n    }\n\n    .dataframe tbody tr th {\n        vertical-align: top;\n    }\n\n    .dataframe thead th {\n        text-align: right;\n    }\n</style>\n<table border=\"1\" class=\"dataframe\">\n  <thead>\n    <tr style=\"text-align: right;\">\n      <th></th>\n      <th>product_name</th>\n      <th>product_url</th>\n      <th>product_code</th>\n      <th>product_brand</th>\n      <th>price</th>\n      <th>currency</th>\n      <th>in_stock</th>\n      <th>date</th>\n    </tr>\n  </thead>\n  <tbody>\n    <tr>\n      <th>1331</th>\n      <td>0-3 Yaş İlk Kitaplarım Serisi Hayvanlar - 12 K...</td>\n      <td>https://www.a101.com.tr/kitap-kirtasiye/0-3-ya...</td>\n      <td>26006372</td>\n      <td></td>\n      <td>83.90</td>\n      <td>TRY</td>\n      <td>True</td>\n      <td>25-10-2021</td>\n    </tr>\n    <tr>\n      <th>1822</th>\n      <td>1 More Ecs-3001  Earbuds Kulaklık</td>\n      <td>https://www.a101.com.tr/elektronik/1-more-ecs-...</td>\n      <td>25002341</td>\n      <td>Xiaomi</td>\n      <td>179.95</td>\n      <td>TRY</td>\n      <td>True</td>\n      <td>21-09-2021</td>\n    </tr>\n    <tr>\n      <th>2939</th>\n      <td>1. Sınıf Okula Başlangıç Okuma Ve Matematik Seti</td>\n      <td>https://www.a101.com.tr/kitap-kirtasiye/1-sini...</td>\n      <td>26012892</td>\n      <td></td>\n      <td>55.90</td>\n      <td>TRY</td>\n      <td>True</td>\n      <td>18-09-2021</td>\n    </tr>\n    <tr>\n      <th>4423</th>\n      <td>1. Sınıflar İçin Pratik Matematik Serisi - 6 K...</td>\n      <td>https://www.a101.com.tr/kitap-kirtasiye/1-sini...</td>\n      <td>26012921</td>\n      <td></td>\n      <td>34.90</td>\n      <td>TRY</td>\n      <td>True</td>\n      <td>28-07-2021</td>\n    </tr>\n    <tr>\n      <th>1332</th>\n      <td>10X15 Cm 100 Yaprak Not Defteri Çizgili, Sarı</td>\n      <td>https://www.a101.com.tr/kitap-kirtasiye/10x15-...</td>\n      <td>26015118007</td>\n      <td></td>\n      <td>2.75</td>\n      <td>TRY</td>\n      <td>True</td>\n      <td>27-10-2021</td>\n    </tr>\n  </tbody>\n</table>\n</div>"
     },
     "execution_count": 141,
     "metadata": {},
     "output_type": "execute_result"
    }
   ],
   "source": [
    "# Sort by name and date\n",
    "df_in_stock = df_in_stock.sort_values('product_name')\n",
    "df_in_stock.head()"
   ],
   "metadata": {
    "collapsed": false,
    "pycharm": {
     "name": "#%%\n"
    }
   }
  },
  {
   "cell_type": "code",
   "execution_count": 67,
   "outputs": [
    {
     "data": {
      "text/plain": "3172"
     },
     "execution_count": 67,
     "metadata": {},
     "output_type": "execute_result"
    }
   ],
   "source": [
    "# Number of unique product # nasil bu kadar az olur ya?\n",
    "df_in_stock['product_name'].nunique()"
   ],
   "metadata": {
    "collapsed": false,
    "pycharm": {
     "name": "#%%\n"
    }
   }
  },
  {
   "cell_type": "code",
   "execution_count": 126,
   "outputs": [],
   "source": [
    "# date range\n",
    "df_in_stock['date'] = pd.to_datetime(df_in_stock['date'], format='%d-%m-%Y')\n",
    "# df_in_stock.date.min(), df_in_stock.date.max() # duzgun calismiyor\n",
    "#df.sample_date.min(), df.sample_date.max()"
   ],
   "metadata": {
    "collapsed": false,
    "pycharm": {
     "name": "#%%\n"
    }
   }
  },
  {
   "cell_type": "code",
   "execution_count": 128,
   "outputs": [
    {
     "data": {
      "text/plain": "43"
     },
     "execution_count": 128,
     "metadata": {},
     "output_type": "execute_result"
    }
   ],
   "source": [
    "# Number of different days\n",
    "len(df_in_stock['date'].value_counts())"
   ],
   "metadata": {
    "collapsed": false,
    "pycharm": {
     "name": "#%%\n"
    }
   }
  },
  {
   "cell_type": "code",
   "execution_count": 129,
   "outputs": [
    {
     "data": {
      "text/plain": "2021-09-18    337\n2021-09-25    283\n2021-09-28    235\n2021-09-27    195\n2021-09-20    161\n2021-09-24    161\n2021-05-08    117\n2021-10-17    111\n2021-05-14    110\n2021-09-17    106\n2021-10-26     99\n2021-10-22     99\n2021-11-30     96\n2021-04-20     94\n2021-10-27     94\n2021-12-03     92\n2021-09-21     89\n2021-12-08     87\n2021-12-04     80\n2021-09-23     73\n2021-05-11     73\n2021-07-31     60\n2021-10-25     60\n2021-10-20     52\n2021-06-17     49\n2021-12-06     41\n2021-04-19     41\n2021-12-09     38\n2021-06-25     35\n2021-07-28     32\n2021-11-29     30\n2021-09-19     27\n2021-07-30     23\n2021-11-27     21\n2021-04-15     21\n2021-12-07     14\n2021-10-28     10\n2021-10-23     10\n2021-10-24      9\n2021-06-15      9\n2021-08-01      7\n2021-06-24      5\n2021-05-13      5\nName: date, dtype: int64"
     },
     "execution_count": 129,
     "metadata": {},
     "output_type": "execute_result"
    }
   ],
   "source": [
    "# day's frequecies\n",
    "df_in_stock['date'].value_counts()"
   ],
   "metadata": {
    "collapsed": false,
    "pycharm": {
     "name": "#%%\n"
    }
   }
  },
  {
   "cell_type": "code",
   "execution_count": 142,
   "outputs": [
    {
     "data": {
      "text/plain": "<AxesSubplot:xlabel='count', ylabel='date'>"
     },
     "execution_count": 142,
     "metadata": {},
     "output_type": "execute_result"
    },
    {
     "data": {
      "text/plain": "<Figure size 1512x504 with 1 Axes>",
      "image/png": "[encoded data removed]"
     },
     "metadata": {
      "needs_background": "light"
     },
     "output_type": "display_data"
    }
   ],
   "source": [
    "plt.figure(figsize=(21,7))\n",
    "sns.countplot(y=\"date\", data=df_in_stock)"
   ],
   "metadata": {
    "collapsed": false,
    "pycharm": {
     "name": "#%%\n"
    }
   }
  },
  {
   "cell_type": "code",
   "execution_count": 131,
   "outputs": [],
   "source": [
    "# monthly data frequencies\n",
    "\n",
    "# derive monthly data\n",
    "\n",
    "df_in_stock['month'] = df_in_stock['date'].apply(lambda x: pd.Timestamp.strftime(x, '%m'))"
   ],
   "metadata": {
    "collapsed": false,
    "pycharm": {
     "name": "#%%\n"
    }
   }
  },
  {
   "cell_type": "code",
   "execution_count": 136,
   "outputs": [
    {
     "data": {
      "text/plain": "<AxesSubplot:xlabel='count', ylabel='month'>"
     },
     "execution_count": 136,
     "metadata": {},
     "output_type": "execute_result"
    },
    {
     "data": {
      "text/plain": "<Figure size 432x288 with 1 Axes>",
      "image/png": "[encoded data removed]"
     },
     "metadata": {
      "needs_background": "light"
     },
     "output_type": "display_data"
    }
   ],
   "source": [
    "sns.countplot(y=\"month\", data=df_in_stock)"
   ],
   "metadata": {
    "collapsed": false,
    "pycharm": {
     "name": "#%%\n"
    }
   }
  },
  {
   "cell_type": "code",
   "execution_count": null,
   "outputs": [],
   "source": [],
   "metadata": {
    "collapsed": false,
    "pycharm": {
     "name": "#%%\n"
    }
   }
  }
 ],
 "metadata": {
  "kernelspec": {
   "display_name": "Python 3 (ipykernel)",
   "language": "python",
   "name": "python3"
  },
  "language_info": {
   "codemirror_mode": {
    "name": "ipython",
    "version": 3
   },
   "file_extension": ".py",
   "mimetype": "text/x-python",
   "name": "python",
   "nbconvert_exporter": "python",
   "pygments_lexer": "ipython3",
   "version": "3.9.7"
  }
 },
 "nbformat": 4,
 "nbformat_minor": 1
}
