{
 "cells": [
  {
   "cell_type": "code",
   "execution_count": 1,
   "metadata": {
    "collapsed": true
   },
   "outputs": [],
   "source": [
    "from datetime import datetime\n",
    "import pandas as pd\n",
    "import matplotlib.pyplot as plt\n",
    "import seaborn as sns\n",
    "from inflation.dataset.reader import InflationJSONA101DatasetReader, InflationDataset\n",
    "from inflation.analysis.descriptive_analysis import calculate_missing_in_stocks, get_number_of_unique_entries"
   ]
  },
  {
   "cell_type": "code",
   "execution_count": 2,
   "metadata": {
    "pycharm": {
     "name": "#%%\n"
    }
   },
   "outputs": [],
   "source": [
    "# Read dataset from json.gz\n",
    "\n",
    "# reader = InflationJSONA101DatasetReader()\n",
    "# dataset = reader.read(\"../../a101.all.json.gz\")\n",
    "# dataset = reader.read(\"../../a101.med.json.gz\")"
   ]
  },
  {
   "cell_type": "markdown",
   "source": [],
   "metadata": {
    "collapsed": false
   }
  },
  {
   "cell_type": "code",
   "execution_count": 3,
   "metadata": {
    "pycharm": {
     "name": "#%%\n"
    }
   },
   "outputs": [],
   "source": [
    "# Save dataset\n",
    "\n",
    "# dataset.save_dataset('A101_full_data.pickle')"
   ]
  },
  {
   "cell_type": "code",
   "execution_count": 4,
   "metadata": {
    "pycharm": {
     "name": "#%%\n"
    }
   },
   "outputs": [
    {
     "data": {
      "text/plain": "                            product_name  \\\n0                   Ahşap Ramazan Davulu   \n1  Barbie Twistable Scooter 3 Tekerlekli   \n2              Bebek Alt Üst Takım Beyaz   \n3                Berber Oyun Hamuru Seti   \n4       Canbebe Islak Havlu 3x56 cm Adet   \n\n                                         product_url product_code  \\\n0  https://www.a101.com.tr/anne-bebek/ahsap-ramaz...     26017745   \n1  https://www.a101.com.tr/anne-bebek/barbie-twis...     26018419   \n2  https://www.a101.com.tr/anne-bebek/bebek-alt-u...  26014709004   \n3  https://www.a101.com.tr/anne-bebek/berber-oyun...     26016222   \n4  https://www.a101.com.tr/anne-bebek/canbebe-isl...     23000698   \n\n  product_brand   price currency  in_stock         sample_date  \n0                 49.95      TRY      True 2021-11-30 00:31:22  \n1                129.95      TRY      True 2021-12-04 15:51:21  \n2                 19.95      TRY      True 2021-12-06 08:30:06  \n3                 24.95      TRY     False 2021-12-08 07:13:18  \n4       Canbebe   16.75      TRY     False 2021-12-07 09:04:26  ",
      "text/html": "<div>\n<style scoped>\n    .dataframe tbody tr th:only-of-type {\n        vertical-align: middle;\n    }\n\n    .dataframe tbody tr th {\n        vertical-align: top;\n    }\n\n    .dataframe thead th {\n        text-align: right;\n    }\n</style>\n<table border=\"1\" class=\"dataframe\">\n  <thead>\n    <tr style=\"text-align: right;\">\n      <th></th>\n      <th>product_name</th>\n      <th>product_url</th>\n      <th>product_code</th>\n      <th>product_brand</th>\n      <th>price</th>\n      <th>currency</th>\n      <th>in_stock</th>\n      <th>sample_date</th>\n    </tr>\n  </thead>\n  <tbody>\n    <tr>\n      <th>0</th>\n      <td>Ahşap Ramazan Davulu</td>\n      <td>https://www.a101.com.tr/anne-bebek/ahsap-ramaz...</td>\n      <td>26017745</td>\n      <td></td>\n      <td>49.95</td>\n      <td>TRY</td>\n      <td>True</td>\n      <td>2021-11-30 00:31:22</td>\n    </tr>\n    <tr>\n      <th>1</th>\n      <td>Barbie Twistable Scooter 3 Tekerlekli</td>\n      <td>https://www.a101.com.tr/anne-bebek/barbie-twis...</td>\n      <td>26018419</td>\n      <td></td>\n      <td>129.95</td>\n      <td>TRY</td>\n      <td>True</td>\n      <td>2021-12-04 15:51:21</td>\n    </tr>\n    <tr>\n      <th>2</th>\n      <td>Bebek Alt Üst Takım Beyaz</td>\n      <td>https://www.a101.com.tr/anne-bebek/bebek-alt-u...</td>\n      <td>26014709004</td>\n      <td></td>\n      <td>19.95</td>\n      <td>TRY</td>\n      <td>True</td>\n      <td>2021-12-06 08:30:06</td>\n    </tr>\n    <tr>\n      <th>3</th>\n      <td>Berber Oyun Hamuru Seti</td>\n      <td>https://www.a101.com.tr/anne-bebek/berber-oyun...</td>\n      <td>26016222</td>\n      <td></td>\n      <td>24.95</td>\n      <td>TRY</td>\n      <td>False</td>\n      <td>2021-12-08 07:13:18</td>\n    </tr>\n    <tr>\n      <th>4</th>\n      <td>Canbebe Islak Havlu 3x56 cm Adet</td>\n      <td>https://www.a101.com.tr/anne-bebek/canbebe-isl...</td>\n      <td>23000698</td>\n      <td>Canbebe</td>\n      <td>16.75</td>\n      <td>TRY</td>\n      <td>False</td>\n      <td>2021-12-07 09:04:26</td>\n    </tr>\n  </tbody>\n</table>\n</div>"
     },
     "execution_count": 4,
     "metadata": {},
     "output_type": "execute_result"
    }
   ],
   "source": [
    "# Read dataset\n",
    "dt = InflationDataset.read_dataset('../../inflation-resources/data/a101_full_data.pickle')\n",
    "\n",
    "# Convert dataset to data frame\n",
    "df = InflationDataset.to_df(dt)\n",
    "\n",
    "df.head()"
   ]
  },
  {
   "cell_type": "code",
   "execution_count": 5,
   "metadata": {
    "pycharm": {
     "name": "#%%\n"
    }
   },
   "outputs": [
    {
     "name": "stdout",
     "output_type": "stream",
     "text": [
      "<class 'pandas.core.frame.DataFrame'>\n",
      "RangeIndex: 5543 entries, 0 to 5542\n",
      "Data columns (total 9 columns):\n",
      " #   Column         Non-Null Count  Dtype         \n",
      "---  ------         --------------  -----         \n",
      " 0   product_name   5543 non-null   object        \n",
      " 1   product_url    5543 non-null   object        \n",
      " 2   product_code   5543 non-null   object        \n",
      " 3   product_brand  5543 non-null   object        \n",
      " 4   price          5543 non-null   float64       \n",
      " 5   currency       5543 non-null   object        \n",
      " 6   in_stock       5543 non-null   bool          \n",
      " 7   sample_date    5543 non-null   datetime64[ns]\n",
      " 8   date           5543 non-null   object        \n",
      "dtypes: bool(1), datetime64[ns](1), float64(1), object(6)\n",
      "memory usage: 352.0+ KB\n"
     ]
    }
   ],
   "source": [
    "# Create date column only contains day, month, year\n",
    "df['date'] = df.sample_date.apply(lambda x: datetime.strptime(str(x), \"%Y-%m-%d %H:%M:%S\"))\n",
    "df['date'] = df.date.apply(lambda x: datetime.strftime(x, \"%d-%m-%Y\"))\n",
    "#df['date'] = df.date.apply(lambda x: datetime.strptime(str(x), \"%d-%m-%Y\"))\n",
    "#df['date'] = df['date'].apply(lambda x: datetime.strftime(x, '%d-%m-%Y'))\n",
    "\n",
    "df.info()"
   ]
  },
  {
   "cell_type": "code",
   "execution_count": 6,
   "metadata": {
    "pycharm": {
     "name": "#%%\n"
    }
   },
   "outputs": [
    {
     "data": {
      "text/plain": "              price\ncount   5543.000000\nmean     245.183675\nstd      839.561598\nmin        0.500000\n25%        9.950000\n50%       24.900000\n75%       99.900000\nmax    14699.000000",
      "text/html": "<div>\n<style scoped>\n    .dataframe tbody tr th:only-of-type {\n        vertical-align: middle;\n    }\n\n    .dataframe tbody tr th {\n        vertical-align: top;\n    }\n\n    .dataframe thead th {\n        text-align: right;\n    }\n</style>\n<table border=\"1\" class=\"dataframe\">\n  <thead>\n    <tr style=\"text-align: right;\">\n      <th></th>\n      <th>price</th>\n    </tr>\n  </thead>\n  <tbody>\n    <tr>\n      <th>count</th>\n      <td>5543.000000</td>\n    </tr>\n    <tr>\n      <th>mean</th>\n      <td>245.183675</td>\n    </tr>\n    <tr>\n      <th>std</th>\n      <td>839.561598</td>\n    </tr>\n    <tr>\n      <th>min</th>\n      <td>0.500000</td>\n    </tr>\n    <tr>\n      <th>25%</th>\n      <td>9.950000</td>\n    </tr>\n    <tr>\n      <th>50%</th>\n      <td>24.900000</td>\n    </tr>\n    <tr>\n      <th>75%</th>\n      <td>99.900000</td>\n    </tr>\n    <tr>\n      <th>max</th>\n      <td>14699.000000</td>\n    </tr>\n  </tbody>\n</table>\n</div>"
     },
     "execution_count": 6,
     "metadata": {},
     "output_type": "execute_result"
    }
   ],
   "source": [
    "df.describe()"
   ]
  },
  {
   "cell_type": "code",
   "execution_count": 7,
   "metadata": {
    "pycharm": {
     "name": "#%%\n"
    }
   },
   "outputs": [],
   "source": [
    "# df.shape()\n",
    "# TypeError: 'tuple' object is not callable  # Q: niyeyse patliyor?"
   ]
  },
  {
   "cell_type": "code",
   "execution_count": 8,
   "outputs": [
    {
     "data": {
      "text/plain": "('3391 items in stocks in total of 5543 items.',\n '61.18% of products in the stock.')"
     },
     "execution_count": 8,
     "metadata": {},
     "output_type": "execute_result"
    }
   ],
   "source": [
    "# How many items are in stock?\n",
    "\n",
    "calculate_missing_in_stocks(df)"
   ],
   "metadata": {
    "collapsed": false,
    "pycharm": {
     "name": "#%%\n"
    }
   }
  },
  {
   "cell_type": "code",
   "execution_count": 9,
   "outputs": [
    {
     "name": "stdout",
     "output_type": "stream",
     "text": [
      "3391\n",
      "<class 'pandas.core.frame.DataFrame'>\n",
      "Int64Index: 3391 entries, 0 to 5539\n",
      "Data columns (total 8 columns):\n",
      " #   Column         Non-Null Count  Dtype  \n",
      "---  ------         --------------  -----  \n",
      " 0   product_name   3391 non-null   object \n",
      " 1   product_url    3391 non-null   object \n",
      " 2   product_code   3391 non-null   object \n",
      " 3   product_brand  3391 non-null   object \n",
      " 4   price          3391 non-null   float64\n",
      " 5   currency       3391 non-null   object \n",
      " 6   in_stock       3391 non-null   bool   \n",
      " 7   date           3391 non-null   object \n",
      "dtypes: bool(1), float64(1), object(6)\n",
      "memory usage: 215.2+ KB\n",
      "None\n"
     ]
    }
   ],
   "source": [
    "# Subset: only takes items that are in stocks\n",
    "\n",
    "df_in_stock = df[df['in_stock'] == True]\n",
    "print(len(df_in_stock))\n",
    "\n",
    "# Drop original date column\n",
    "df_in_stock = df_in_stock.drop(columns=['sample_date'])\n",
    "print(df_in_stock.info())"
   ],
   "metadata": {
    "collapsed": false,
    "pycharm": {
     "name": "#%%\n"
    }
   }
  },
  {
   "cell_type": "code",
   "execution_count": 10,
   "outputs": [],
   "source": [
    "# Sort by date\n",
    "df_in_stock = df_in_stock.sort_values('date')\n",
    "# Sort by name\n",
    "# df_in_stock = df_in_stock.sort_values('product_name')"
   ],
   "metadata": {
    "collapsed": false,
    "pycharm": {
     "name": "#%%\n"
    }
   }
  },
  {
   "cell_type": "code",
   "execution_count": 11,
   "outputs": [
    {
     "data": {
      "text/plain": "3172"
     },
     "execution_count": 11,
     "metadata": {},
     "output_type": "execute_result"
    }
   ],
   "source": [
    "# Number of unique product # nasil bu kadar az olur ya?\n",
    "df_in_stock['product_name'].nunique()"
   ],
   "metadata": {
    "collapsed": false,
    "pycharm": {
     "name": "#%%\n"
    }
   }
  },
  {
   "cell_type": "code",
   "execution_count": 12,
   "outputs": [
    {
     "data": {
      "text/plain": "[('currency', 1),\n ('date', 43),\n ('product_brand', 405),\n ('product_code', 3047),\n ('product_url', 3107),\n ('product_name', 3172)]"
     },
     "execution_count": 12,
     "metadata": {},
     "output_type": "execute_result"
    }
   ],
   "source": [
    "# Number of unique product # nasil bu kadar az olur ya?\n",
    "get_number_of_unique_entries(df_in_stock)"
   ],
   "metadata": {
    "collapsed": false,
    "pycharm": {
     "name": "#%%\n"
    }
   }
  },
  {
   "cell_type": "code",
   "execution_count": 13,
   "outputs": [
    {
     "data": {
      "text/plain": "('01-08-2021', '31-07-2021')"
     },
     "execution_count": 13,
     "metadata": {},
     "output_type": "execute_result"
    }
   ],
   "source": [
    "# date range\n",
    "#df_in_stock['date'] = pd.to_datetime(df_in_stock['date'], format='%d-%m-%Y')\n",
    "df_in_stock.date.min(), df_in_stock.date.max()"
   ],
   "metadata": {
    "collapsed": false,
    "pycharm": {
     "name": "#%%\n"
    }
   }
  },
  {
   "cell_type": "code",
   "execution_count": 14,
   "outputs": [
    {
     "data": {
      "text/plain": "43"
     },
     "execution_count": 14,
     "metadata": {},
     "output_type": "execute_result"
    }
   ],
   "source": [
    "# Number of different days\n",
    "len(df_in_stock['date'].value_counts())"
   ],
   "metadata": {
    "collapsed": false,
    "pycharm": {
     "name": "#%%\n"
    }
   }
  },
  {
   "cell_type": "code",
   "execution_count": 15,
   "outputs": [
    {
     "data": {
      "text/plain": "18-09-2021    337\n25-09-2021    283\n28-09-2021    235\n27-09-2021    195\n20-09-2021    161\n24-09-2021    161\n08-05-2021    117\n17-10-2021    111\n14-05-2021    110\n17-09-2021    106\n26-10-2021     99\n22-10-2021     99\n30-11-2021     96\n27-10-2021     94\n20-04-2021     94\n03-12-2021     92\n21-09-2021     89\n08-12-2021     87\n04-12-2021     80\n23-09-2021     73\n11-05-2021     73\n25-10-2021     60\n31-07-2021     60\n20-10-2021     52\n17-06-2021     49\n06-12-2021     41\n19-04-2021     41\n09-12-2021     38\n25-06-2021     35\n28-07-2021     32\n29-11-2021     30\n19-09-2021     27\n30-07-2021     23\n15-04-2021     21\n27-11-2021     21\n07-12-2021     14\n23-10-2021     10\n28-10-2021     10\n24-10-2021      9\n15-06-2021      9\n01-08-2021      7\n24-06-2021      5\n13-05-2021      5\nName: date, dtype: int64"
     },
     "execution_count": 15,
     "metadata": {},
     "output_type": "execute_result"
    }
   ],
   "source": [
    "# day's frequecies\n",
    "df_in_stock['date'].value_counts()"
   ],
   "metadata": {
    "collapsed": false,
    "pycharm": {
     "name": "#%%\n"
    }
   }
  },
  {
   "cell_type": "code",
   "execution_count": 16,
   "outputs": [
    {
     "data": {
      "text/plain": "<AxesSubplot:xlabel='count', ylabel='date'>"
     },
     "execution_count": 16,
     "metadata": {},
     "output_type": "execute_result"
    },
    {
     "data": {
      "text/plain": "<Figure size 1728x576 with 1 Axes>",
      "image/png": "[encoded data removed]"
     },
     "metadata": {
      "needs_background": "light"
     },
     "output_type": "display_data"
    }
   ],
   "source": [
    "plt.figure(figsize=(24,8)) #Q: bu niye hatali cikmaya basladi saatleri almama ragmen?\n",
    "sns.countplot(y=\"date\", data=df_in_stock)"
   ],
   "metadata": {
    "collapsed": false,
    "pycharm": {
     "name": "#%%\n"
    }
   }
  },
  {
   "cell_type": "code",
   "execution_count": 17,
   "outputs": [],
   "source": [
    "# monthly data frequencies\n",
    "# derive monthly data\n",
    "df_in_stock['date'] = df_in_stock.date.apply(lambda x: datetime.strptime(str(x), \"%d-%m-%Y\"))\n",
    "df_in_stock['month'] = df_in_stock['date'].apply(lambda x: pd.Timestamp.strftime(x, '%m'))"
   ],
   "metadata": {
    "collapsed": false,
    "pycharm": {
     "name": "#%%\n"
    }
   }
  },
  {
   "cell_type": "code",
   "execution_count": 18,
   "outputs": [
    {
     "data": {
      "text/plain": "<AxesSubplot:xlabel='count', ylabel='month'>"
     },
     "execution_count": 18,
     "metadata": {},
     "output_type": "execute_result"
    },
    {
     "data": {
      "text/plain": "<Figure size 432x288 with 1 Axes>",
      "image/png": "[encoded data removed]"
     },
     "metadata": {
      "needs_background": "light"
     },
     "output_type": "display_data"
    }
   ],
   "source": [
    "df_in_stock = df_in_stock.sort_values('date')\n",
    "sns.countplot(y=\"month\", data=df_in_stock)"
   ],
   "metadata": {
    "collapsed": false,
    "pycharm": {
     "name": "#%%\n"
    }
   }
  },
  {
   "cell_type": "code",
   "execution_count": 19,
   "outputs": [
    {
     "data": {
      "text/plain": "                                                  counts\nproduct_name                                            \nCrocs Crocband Çocuk Terlik                           11\nCrocs Crocband Erkek/Kadın Terlik                      7\n10X15 Cm 100 Yaprak Not Defteri Çizgili, Sarı          4\nA4 60 Yaprak Dikişli Pp Kaplı Defter - Su Yeşili       4\nTriathlon Futbol Topu                                  3",
      "text/html": "<div>\n<style scoped>\n    .dataframe tbody tr th:only-of-type {\n        vertical-align: middle;\n    }\n\n    .dataframe tbody tr th {\n        vertical-align: top;\n    }\n\n    .dataframe thead th {\n        text-align: right;\n    }\n</style>\n<table border=\"1\" class=\"dataframe\">\n  <thead>\n    <tr style=\"text-align: right;\">\n      <th></th>\n      <th>counts</th>\n    </tr>\n    <tr>\n      <th>product_name</th>\n      <th></th>\n    </tr>\n  </thead>\n  <tbody>\n    <tr>\n      <th>Crocs Crocband Çocuk Terlik</th>\n      <td>11</td>\n    </tr>\n    <tr>\n      <th>Crocs Crocband Erkek/Kadın Terlik</th>\n      <td>7</td>\n    </tr>\n    <tr>\n      <th>10X15 Cm 100 Yaprak Not Defteri Çizgili, Sarı</th>\n      <td>4</td>\n    </tr>\n    <tr>\n      <th>A4 60 Yaprak Dikişli Pp Kaplı Defter - Su Yeşili</th>\n      <td>4</td>\n    </tr>\n    <tr>\n      <th>Triathlon Futbol Topu</th>\n      <td>3</td>\n    </tr>\n  </tbody>\n</table>\n</div>"
     },
     "execution_count": 19,
     "metadata": {},
     "output_type": "execute_result"
    }
   ],
   "source": [
    "# Find items that have more than one time frame\n",
    "values = pd.DataFrame(df_in_stock['product_name'].value_counts())\n",
    "\n",
    "values.index.name = 'product_name'\n",
    "values.columns = ['counts']\n",
    "\n",
    "values = values[values[\"counts\"] > 1] # filter items occurrences is more than 1\n",
    "values.head()"
   ],
   "metadata": {
    "collapsed": false,
    "pycharm": {
     "name": "#%%\n"
    }
   }
  },
  {
   "cell_type": "code",
   "execution_count": 20,
   "outputs": [
    {
     "data": {
      "text/plain": "                        product_name  \\\n5457          Her Şey Zihinde Başlar   \n5394     My Bottle Cam Matara 470 Cc   \n5346     Crocs Crocband Çocuk Terlik   \n5403         Rooc Bıçak Seti 6 Parça   \n5530  Ustasından Çorba Mercimek 76 G   \n\n                                            product_url product_code  \\\n5457  https://www.a101.com.tr/kitap-kirtasiye/her-se...     26000620   \n5394  https://www.a101.com.tr/ev-yasam/my-bottle-cam...     26009105   \n5346  https://www.a101.com.tr/ev-yasam/crocs-crocban...  26011707013   \n5403  https://www.a101.com.tr/ev-yasam/rooc-bicak-se...     26005532   \n5530  https://www.a101.com.tr/market/ustasindan-corb...     18001887   \n\n     product_brand   price currency  in_stock       date month  \n5457                 20.90      TRY      True 2021-04-15    04  \n5394     My Bottle   12.95      TRY      True 2021-04-15    04  \n5346         Crocs  194.95      TRY      True 2021-04-15    04  \n5403          Rooc   60.95      TRY      True 2021-04-15    04  \n5530    Ustasindan    1.75      TRY      True 2021-04-19    04  ",
      "text/html": "<div>\n<style scoped>\n    .dataframe tbody tr th:only-of-type {\n        vertical-align: middle;\n    }\n\n    .dataframe tbody tr th {\n        vertical-align: top;\n    }\n\n    .dataframe thead th {\n        text-align: right;\n    }\n</style>\n<table border=\"1\" class=\"dataframe\">\n  <thead>\n    <tr style=\"text-align: right;\">\n      <th></th>\n      <th>product_name</th>\n      <th>product_url</th>\n      <th>product_code</th>\n      <th>product_brand</th>\n      <th>price</th>\n      <th>currency</th>\n      <th>in_stock</th>\n      <th>date</th>\n      <th>month</th>\n    </tr>\n  </thead>\n  <tbody>\n    <tr>\n      <th>5457</th>\n      <td>Her Şey Zihinde Başlar</td>\n      <td>https://www.a101.com.tr/kitap-kirtasiye/her-se...</td>\n      <td>26000620</td>\n      <td></td>\n      <td>20.90</td>\n      <td>TRY</td>\n      <td>True</td>\n      <td>2021-04-15</td>\n      <td>04</td>\n    </tr>\n    <tr>\n      <th>5394</th>\n      <td>My Bottle Cam Matara 470 Cc</td>\n      <td>https://www.a101.com.tr/ev-yasam/my-bottle-cam...</td>\n      <td>26009105</td>\n      <td>My Bottle</td>\n      <td>12.95</td>\n      <td>TRY</td>\n      <td>True</td>\n      <td>2021-04-15</td>\n      <td>04</td>\n    </tr>\n    <tr>\n      <th>5346</th>\n      <td>Crocs Crocband Çocuk Terlik</td>\n      <td>https://www.a101.com.tr/ev-yasam/crocs-crocban...</td>\n      <td>26011707013</td>\n      <td>Crocs</td>\n      <td>194.95</td>\n      <td>TRY</td>\n      <td>True</td>\n      <td>2021-04-15</td>\n      <td>04</td>\n    </tr>\n    <tr>\n      <th>5403</th>\n      <td>Rooc Bıçak Seti 6 Parça</td>\n      <td>https://www.a101.com.tr/ev-yasam/rooc-bicak-se...</td>\n      <td>26005532</td>\n      <td>Rooc</td>\n      <td>60.95</td>\n      <td>TRY</td>\n      <td>True</td>\n      <td>2021-04-15</td>\n      <td>04</td>\n    </tr>\n    <tr>\n      <th>5530</th>\n      <td>Ustasından Çorba Mercimek 76 G</td>\n      <td>https://www.a101.com.tr/market/ustasindan-corb...</td>\n      <td>18001887</td>\n      <td>Ustasindan</td>\n      <td>1.75</td>\n      <td>TRY</td>\n      <td>True</td>\n      <td>2021-04-19</td>\n      <td>04</td>\n    </tr>\n  </tbody>\n</table>\n</div>"
     },
     "execution_count": 20,
     "metadata": {},
     "output_type": "execute_result"
    }
   ],
   "source": [
    "# Subset: Subset the dataset items that occurred in dataset at least 2 times.\n",
    "\n",
    "# Getting names\n",
    "names = values.index\n",
    "names = list(names)\n",
    "\n",
    "# Subsetting with that list\n",
    "\n",
    "df_filtered  = df_in_stock.loc[df_in_stock['product_name'].isin(names)]\n",
    "df_filtered.head()"
   ],
   "metadata": {
    "collapsed": false,
    "pycharm": {
     "name": "#%%\n"
    }
   }
  },
  {
   "cell_type": "code",
   "execution_count": 21,
   "outputs": [
    {
     "data": {
      "text/plain": "                                      product_name  \\\n5457                        Her Şey Zihinde Başlar   \n5394                   My Bottle Cam Matara 470 Cc   \n5346                   Crocs Crocband Çocuk Terlik   \n5403                       Rooc Bıçak Seti 6 Parça   \n5530                Ustasından Çorba Mercimek 76 G   \n...                                            ...   \n706     Asperox Ultra Kireç Pas Sökücü Mavi güç 1L   \n325   Marie Claire Kadın Kaplı Sütyen Desenli Ekru   \n302                               Kadın Kazak  Bej   \n363                       Skechers Kadın Bot Siyah   \n244     Adidas Sambarose Kadın Spor Ayakkabı Bordo   \n\n                                            product_url product_code  \\\n5457  https://www.a101.com.tr/kitap-kirtasiye/her-se...     26000620   \n5394  https://www.a101.com.tr/ev-yasam/my-bottle-cam...     26009105   \n5346  https://www.a101.com.tr/ev-yasam/crocs-crocban...  26011707013   \n5403  https://www.a101.com.tr/ev-yasam/rooc-bicak-se...     26005532   \n5530  https://www.a101.com.tr/market/ustasindan-corb...     18001887   \n...                                                 ...          ...   \n706   https://www.a101.com.tr/market/asperox-ultra-k...     22001923   \n325   https://www.a101.com.tr/ev-yasam/marie-claire-...  25002195001   \n302   https://www.a101.com.tr/ev-yasam/kadin-kazak-b...  26016301003   \n363   https://www.a101.com.tr/ev-yasam/skechers-kadi...  26015383002   \n244   https://www.a101.com.tr/ev-yasam/adidas-sambar...  26013453001   \n\n     product_brand   price currency  in_stock       date month  \n5457                 20.90      TRY      True 2021-04-15    04  \n5394     My Bottle   12.95      TRY      True 2021-04-15    04  \n5346         Crocs  194.95      TRY      True 2021-04-15    04  \n5403          Rooc   60.95      TRY      True 2021-04-15    04  \n5530    Ustasindan    1.75      TRY      True 2021-04-19    04  \n...            ...     ...      ...       ...        ...   ...  \n706        Asperox   14.90      TRY      True 2021-12-09    12  \n325   Marie Claire   19.95      TRY      True 2021-12-09    12  \n302          Diğer   37.95      TRY      True 2021-12-09    12  \n363       Skechers  779.00      TRY      True 2021-12-09    12  \n244         Adidas  579.00      TRY      True 2021-12-09    12  \n\n[398 rows x 9 columns]",
      "text/html": "<div>\n<style scoped>\n    .dataframe tbody tr th:only-of-type {\n        vertical-align: middle;\n    }\n\n    .dataframe tbody tr th {\n        vertical-align: top;\n    }\n\n    .dataframe thead th {\n        text-align: right;\n    }\n</style>\n<table border=\"1\" class=\"dataframe\">\n  <thead>\n    <tr style=\"text-align: right;\">\n      <th></th>\n      <th>product_name</th>\n      <th>product_url</th>\n      <th>product_code</th>\n      <th>product_brand</th>\n      <th>price</th>\n      <th>currency</th>\n      <th>in_stock</th>\n      <th>date</th>\n      <th>month</th>\n    </tr>\n  </thead>\n  <tbody>\n    <tr>\n      <th>5457</th>\n      <td>Her Şey Zihinde Başlar</td>\n      <td>https://www.a101.com.tr/kitap-kirtasiye/her-se...</td>\n      <td>26000620</td>\n      <td></td>\n      <td>20.90</td>\n      <td>TRY</td>\n      <td>True</td>\n      <td>2021-04-15</td>\n      <td>04</td>\n    </tr>\n    <tr>\n      <th>5394</th>\n      <td>My Bottle Cam Matara 470 Cc</td>\n      <td>https://www.a101.com.tr/ev-yasam/my-bottle-cam...</td>\n      <td>26009105</td>\n      <td>My Bottle</td>\n      <td>12.95</td>\n      <td>TRY</td>\n      <td>True</td>\n      <td>2021-04-15</td>\n      <td>04</td>\n    </tr>\n    <tr>\n      <th>5346</th>\n      <td>Crocs Crocband Çocuk Terlik</td>\n      <td>https://www.a101.com.tr/ev-yasam/crocs-crocban...</td>\n      <td>26011707013</td>\n      <td>Crocs</td>\n      <td>194.95</td>\n      <td>TRY</td>\n      <td>True</td>\n      <td>2021-04-15</td>\n      <td>04</td>\n    </tr>\n    <tr>\n      <th>5403</th>\n      <td>Rooc Bıçak Seti 6 Parça</td>\n      <td>https://www.a101.com.tr/ev-yasam/rooc-bicak-se...</td>\n      <td>26005532</td>\n      <td>Rooc</td>\n      <td>60.95</td>\n      <td>TRY</td>\n      <td>True</td>\n      <td>2021-04-15</td>\n      <td>04</td>\n    </tr>\n    <tr>\n      <th>5530</th>\n      <td>Ustasından Çorba Mercimek 76 G</td>\n      <td>https://www.a101.com.tr/market/ustasindan-corb...</td>\n      <td>18001887</td>\n      <td>Ustasindan</td>\n      <td>1.75</td>\n      <td>TRY</td>\n      <td>True</td>\n      <td>2021-04-19</td>\n      <td>04</td>\n    </tr>\n    <tr>\n      <th>...</th>\n      <td>...</td>\n      <td>...</td>\n      <td>...</td>\n      <td>...</td>\n      <td>...</td>\n      <td>...</td>\n      <td>...</td>\n      <td>...</td>\n      <td>...</td>\n    </tr>\n    <tr>\n      <th>706</th>\n      <td>Asperox Ultra Kireç Pas Sökücü Mavi güç 1L</td>\n      <td>https://www.a101.com.tr/market/asperox-ultra-k...</td>\n      <td>22001923</td>\n      <td>Asperox</td>\n      <td>14.90</td>\n      <td>TRY</td>\n      <td>True</td>\n      <td>2021-12-09</td>\n      <td>12</td>\n    </tr>\n    <tr>\n      <th>325</th>\n      <td>Marie Claire Kadın Kaplı Sütyen Desenli Ekru</td>\n      <td>https://www.a101.com.tr/ev-yasam/marie-claire-...</td>\n      <td>25002195001</td>\n      <td>Marie Claire</td>\n      <td>19.95</td>\n      <td>TRY</td>\n      <td>True</td>\n      <td>2021-12-09</td>\n      <td>12</td>\n    </tr>\n    <tr>\n      <th>302</th>\n      <td>Kadın Kazak  Bej</td>\n      <td>https://www.a101.com.tr/ev-yasam/kadin-kazak-b...</td>\n      <td>26016301003</td>\n      <td>Diğer</td>\n      <td>37.95</td>\n      <td>TRY</td>\n      <td>True</td>\n      <td>2021-12-09</td>\n      <td>12</td>\n    </tr>\n    <tr>\n      <th>363</th>\n      <td>Skechers Kadın Bot Siyah</td>\n      <td>https://www.a101.com.tr/ev-yasam/skechers-kadi...</td>\n      <td>26015383002</td>\n      <td>Skechers</td>\n      <td>779.00</td>\n      <td>TRY</td>\n      <td>True</td>\n      <td>2021-12-09</td>\n      <td>12</td>\n    </tr>\n    <tr>\n      <th>244</th>\n      <td>Adidas Sambarose Kadın Spor Ayakkabı Bordo</td>\n      <td>https://www.a101.com.tr/ev-yasam/adidas-sambar...</td>\n      <td>26013453001</td>\n      <td>Adidas</td>\n      <td>579.00</td>\n      <td>TRY</td>\n      <td>True</td>\n      <td>2021-12-09</td>\n      <td>12</td>\n    </tr>\n  </tbody>\n</table>\n<p>398 rows × 9 columns</p>\n</div>"
     },
     "execution_count": 21,
     "metadata": {},
     "output_type": "execute_result"
    }
   ],
   "source": [
    "df_grouped = df_filtered.groupby(by='product_name') # calismiyor ya\n",
    "df_grouped.head()"
   ],
   "metadata": {
    "collapsed": false,
    "pycharm": {
     "name": "#%%\n"
    }
   }
  }
 ],
 "metadata": {
  "kernelspec": {
   "display_name": "Python 3 (ipykernel)",
   "language": "python",
   "name": "python3"
  },
  "language_info": {
   "codemirror_mode": {
    "name": "ipython",
    "version": 3
   },
   "file_extension": ".py",
   "mimetype": "text/x-python",
   "name": "python",
   "nbconvert_exporter": "python",
   "pygments_lexer": "ipython3",
   "version": "3.9.7"
  }
 },
 "nbformat": 4,
 "nbformat_minor": 1
}
