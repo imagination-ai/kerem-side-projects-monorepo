{
 "cells": [
  {
   "cell_type": "code",
   "execution_count": 1,
   "metadata": {
    "collapsed": true
   },
   "outputs": [],
   "source": [
    "from inflation.dataset.reader import InflationJSONA101DatasetReader, InflationDataset"
   ]
  },
  {
   "cell_type": "code",
   "execution_count": 2,
   "metadata": {
    "pycharm": {
     "name": "#%%\n"
    }
   },
   "outputs": [
    {
     "name": "stdout",
     "output_type": "stream",
     "text": [
      "2022-01-20 23:29:19 [INFO] inflation.dataset.reader: total_pages=14533, item_pages=5543\n"
     ]
    }
   ],
   "source": [
    "# Read dataset from json.gz\n",
    "\n",
    "reader = InflationJSONA101DatasetReader()\n",
    "dataset = reader.read(\"../../a101.all.json.gz\")\n",
    "# dataset = reader.read(\"../../a101.med.json.gz\")\n"
   ]
  },
  {
   "cell_type": "code",
   "execution_count": 3,
   "metadata": {
    "pycharm": {
     "name": "#%%\n"
    }
   },
   "outputs": [],
   "source": [
    "# Save dataset\n",
    "\n",
    "dataset.save_dataset('A101_full_data.pickle1')"
   ]
  },
  {
   "cell_type": "code",
   "execution_count": 4,
   "metadata": {
    "pycharm": {
     "name": "#%%\n"
    }
   },
   "outputs": [],
   "source": [
    "# Read dataset\n",
    "\n",
    "dt = InflationDataset.read_dataset('../../inflation-resources/data/a101_full_data.pickle')\n",
    "\n",
    "# Convert dataset to data frame\n",
    "\n",
    "df = InflationDataset.convert_dataset_to_dataframe(dt)"
   ]
  },
  {
   "cell_type": "code",
   "execution_count": 5,
   "metadata": {
    "pycharm": {
     "name": "#%%\n"
    }
   },
   "outputs": [
    {
     "data": {
      "text/plain": "                            product_name  \\\n0                   Ahşap Ramazan Davulu   \n1  Barbie Twistable Scooter 3 Tekerlekli   \n2              Bebek Alt Üst Takım Beyaz   \n3                Berber Oyun Hamuru Seti   \n4       Canbebe Islak Havlu 3x56 cm Adet   \n\n                                         product_url product_code  \\\n0  https://www.a101.com.tr/anne-bebek/ahsap-ramaz...     26017745   \n1  https://www.a101.com.tr/anne-bebek/barbie-twis...     26018419   \n2  https://www.a101.com.tr/anne-bebek/bebek-alt-u...  26014709004   \n3  https://www.a101.com.tr/anne-bebek/berber-oyun...     26016222   \n4  https://www.a101.com.tr/anne-bebek/canbebe-isl...     23000698   \n\n  product_brand   price currency  in_stock         sample_date  \n0                 49.95      TRY      True 2021-11-30 00:31:22  \n1                129.95      TRY      True 2021-12-04 15:51:21  \n2                 19.95      TRY      True 2021-12-06 08:30:06  \n3                 24.95      TRY     False 2021-12-08 07:13:18  \n4       Canbebe   16.75      TRY     False 2021-12-07 09:04:26  ",
      "text/html": "<div>\n<style scoped>\n    .dataframe tbody tr th:only-of-type {\n        vertical-align: middle;\n    }\n\n    .dataframe tbody tr th {\n        vertical-align: top;\n    }\n\n    .dataframe thead th {\n        text-align: right;\n    }\n</style>\n<table border=\"1\" class=\"dataframe\">\n  <thead>\n    <tr style=\"text-align: right;\">\n      <th></th>\n      <th>product_name</th>\n      <th>product_url</th>\n      <th>product_code</th>\n      <th>product_brand</th>\n      <th>price</th>\n      <th>currency</th>\n      <th>in_stock</th>\n      <th>sample_date</th>\n    </tr>\n  </thead>\n  <tbody>\n    <tr>\n      <th>0</th>\n      <td>Ahşap Ramazan Davulu</td>\n      <td>https://www.a101.com.tr/anne-bebek/ahsap-ramaz...</td>\n      <td>26017745</td>\n      <td></td>\n      <td>49.95</td>\n      <td>TRY</td>\n      <td>True</td>\n      <td>2021-11-30 00:31:22</td>\n    </tr>\n    <tr>\n      <th>1</th>\n      <td>Barbie Twistable Scooter 3 Tekerlekli</td>\n      <td>https://www.a101.com.tr/anne-bebek/barbie-twis...</td>\n      <td>26018419</td>\n      <td></td>\n      <td>129.95</td>\n      <td>TRY</td>\n      <td>True</td>\n      <td>2021-12-04 15:51:21</td>\n    </tr>\n    <tr>\n      <th>2</th>\n      <td>Bebek Alt Üst Takım Beyaz</td>\n      <td>https://www.a101.com.tr/anne-bebek/bebek-alt-u...</td>\n      <td>26014709004</td>\n      <td></td>\n      <td>19.95</td>\n      <td>TRY</td>\n      <td>True</td>\n      <td>2021-12-06 08:30:06</td>\n    </tr>\n    <tr>\n      <th>3</th>\n      <td>Berber Oyun Hamuru Seti</td>\n      <td>https://www.a101.com.tr/anne-bebek/berber-oyun...</td>\n      <td>26016222</td>\n      <td></td>\n      <td>24.95</td>\n      <td>TRY</td>\n      <td>False</td>\n      <td>2021-12-08 07:13:18</td>\n    </tr>\n    <tr>\n      <th>4</th>\n      <td>Canbebe Islak Havlu 3x56 cm Adet</td>\n      <td>https://www.a101.com.tr/anne-bebek/canbebe-isl...</td>\n      <td>23000698</td>\n      <td>Canbebe</td>\n      <td>16.75</td>\n      <td>TRY</td>\n      <td>False</td>\n      <td>2021-12-07 09:04:26</td>\n    </tr>\n  </tbody>\n</table>\n</div>"
     },
     "execution_count": 5,
     "metadata": {},
     "output_type": "execute_result"
    }
   ],
   "source": [
    "df.head()"
   ]
  },
  {
   "cell_type": "code",
   "execution_count": 6,
   "metadata": {
    "pycharm": {
     "name": "#%%\n"
    }
   },
   "outputs": [
    {
     "name": "stdout",
     "output_type": "stream",
     "text": [
      "<class 'pandas.core.frame.DataFrame'>\n",
      "RangeIndex: 5543 entries, 0 to 5542\n",
      "Data columns (total 8 columns):\n",
      " #   Column         Non-Null Count  Dtype         \n",
      "---  ------         --------------  -----         \n",
      " 0   product_name   5543 non-null   object        \n",
      " 1   product_url    5543 non-null   object        \n",
      " 2   product_code   5543 non-null   object        \n",
      " 3   product_brand  5543 non-null   object        \n",
      " 4   price          5543 non-null   float64       \n",
      " 5   currency       5543 non-null   object        \n",
      " 6   in_stock       5543 non-null   bool          \n",
      " 7   sample_date    5543 non-null   datetime64[ns]\n",
      "dtypes: bool(1), datetime64[ns](1), float64(1), object(5)\n",
      "memory usage: 308.7+ KB\n"
     ]
    }
   ],
   "source": [
    "df.info()"
   ]
  },
  {
   "cell_type": "code",
   "execution_count": 7,
   "metadata": {
    "pycharm": {
     "name": "#%%\n"
    }
   },
   "outputs": [
    {
     "data": {
      "text/plain": "              price\ncount   5543.000000\nmean     245.183675\nstd      839.561598\nmin        0.500000\n25%        9.950000\n50%       24.900000\n75%       99.900000\nmax    14699.000000",
      "text/html": "<div>\n<style scoped>\n    .dataframe tbody tr th:only-of-type {\n        vertical-align: middle;\n    }\n\n    .dataframe tbody tr th {\n        vertical-align: top;\n    }\n\n    .dataframe thead th {\n        text-align: right;\n    }\n</style>\n<table border=\"1\" class=\"dataframe\">\n  <thead>\n    <tr style=\"text-align: right;\">\n      <th></th>\n      <th>price</th>\n    </tr>\n  </thead>\n  <tbody>\n    <tr>\n      <th>count</th>\n      <td>5543.000000</td>\n    </tr>\n    <tr>\n      <th>mean</th>\n      <td>245.183675</td>\n    </tr>\n    <tr>\n      <th>std</th>\n      <td>839.561598</td>\n    </tr>\n    <tr>\n      <th>min</th>\n      <td>0.500000</td>\n    </tr>\n    <tr>\n      <th>25%</th>\n      <td>9.950000</td>\n    </tr>\n    <tr>\n      <th>50%</th>\n      <td>24.900000</td>\n    </tr>\n    <tr>\n      <th>75%</th>\n      <td>99.900000</td>\n    </tr>\n    <tr>\n      <th>max</th>\n      <td>14699.000000</td>\n    </tr>\n  </tbody>\n</table>\n</div>"
     },
     "execution_count": 7,
     "metadata": {},
     "output_type": "execute_result"
    }
   ],
   "source": [
    "df.describe()"
   ]
  },
  {
   "cell_type": "code",
   "execution_count": 8,
   "metadata": {
    "pycharm": {
     "name": "#%%\n"
    }
   },
   "outputs": [],
   "source": [
    "# df.shape()\n",
    "# TypeError: 'tuple' object is not callable  # Q: niyeyse patliyor?"
   ]
  },
  {
   "cell_type": "code",
   "execution_count": 9,
   "metadata": {
    "pycharm": {
     "name": "#%%\n"
    }
   },
   "outputs": [
    {
     "name": "stdout",
     "output_type": "stream",
     "text": [
      "3391 items in stocks in total of 5543 items.\n",
      "61.18% of products in the stock.\n"
     ]
    }
   ],
   "source": [
    "# How many items are in stock?\n",
    "print(f\"{len(df[df['in_stock'] == True])} items in stocks in total of {len(df)} items.\",\n",
    "      f\"{round(len(df[df['in_stock'] == True]) / len(df), 4) * 100}% of products in the stock.\", sep='\\n')"
   ]
  }
 ],
 "metadata": {
  "kernelspec": {
   "display_name": "Python 3 (ipykernel)",
   "language": "python",
   "name": "python3"
  },
  "language_info": {
   "codemirror_mode": {
    "name": "ipython",
    "version": 3
   },
   "file_extension": ".py",
   "mimetype": "text/x-python",
   "name": "python",
   "nbconvert_exporter": "python",
   "pygments_lexer": "ipython3",
   "version": "3.9.7"
  }
 },
 "nbformat": 4,
 "nbformat_minor": 1
}
